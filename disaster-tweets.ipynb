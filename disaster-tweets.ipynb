{
 "cells": [
  {
   "cell_type": "code",
   "execution_count": 1,
   "id": "major-length",
   "metadata": {
    "_cell_guid": "b1076dfc-b9ad-4769-8c92-a6c4dae69d19",
    "_uuid": "8f2839f25d086af736a60e9eeb907d3b93b6e0e5",
    "execution": {
     "iopub.execute_input": "2021-05-05T04:22:08.014659Z",
     "iopub.status.busy": "2021-05-05T04:22:08.014162Z",
     "iopub.status.idle": "2021-05-05T04:22:08.027165Z",
     "shell.execute_reply": "2021-05-05T04:22:08.026447Z"
    },
    "papermill": {
     "duration": 0.057592,
     "end_time": "2021-05-05T04:22:08.027329",
     "exception": false,
     "start_time": "2021-05-05T04:22:07.969737",
     "status": "completed"
    },
    "tags": []
   },
   "outputs": [
    {
     "name": "stdout",
     "output_type": "stream",
     "text": [
      "/kaggle/input/nlp-getting-started/sample_submission.csv\n",
      "/kaggle/input/nlp-getting-started/train.csv\n",
      "/kaggle/input/nlp-getting-started/test.csv\n"
     ]
    }
   ],
   "source": [
    "# This Python 3 environment comes with many helpful analytics libraries installed\n",
    "# It is defined by the kaggle/python Docker image: https://github.com/kaggle/docker-python\n",
    "# For example, here's several helpful packages to load\n",
    "\n",
    "import numpy as np # linear algebra\n",
    "import pandas as pd # data processing, CSV file I/O (e.g. pd.read_csv)\n",
    "\n",
    "# Input data files are available in the read-only \"../input/\" directory\n",
    "# For example, running this (by clicking run or pressing Shift+Enter) will list all files under the input directory\n",
    "\n",
    "import os\n",
    "for dirname, _, filenames in os.walk('/kaggle/input'):\n",
    "    for filename in filenames:\n",
    "        print(os.path.join(dirname, filename))\n",
    "\n",
    "# You can write up to 20GB to the current directory (/kaggle/working/) that gets preserved as output when you create a version using \"Save & Run All\" \n",
    "# You can also write temporary files to /kaggle/temp/, but they won't be saved outside of the current session"
   ]
  },
  {
   "cell_type": "markdown",
   "id": "expired-phone",
   "metadata": {
    "papermill": {
     "duration": 0.04375,
     "end_time": "2021-05-05T04:22:08.104811",
     "exception": false,
     "start_time": "2021-05-05T04:22:08.061061",
     "status": "completed"
    },
    "tags": []
   },
   "source": [
    "Import libraries"
   ]
  },
  {
   "cell_type": "code",
   "execution_count": 2,
   "id": "falling-motivation",
   "metadata": {
    "execution": {
     "iopub.execute_input": "2021-05-05T04:22:08.176431Z",
     "iopub.status.busy": "2021-05-05T04:22:08.175545Z",
     "iopub.status.idle": "2021-05-05T04:22:09.725179Z",
     "shell.execute_reply": "2021-05-05T04:22:09.725602Z"
    },
    "papermill": {
     "duration": 1.588232,
     "end_time": "2021-05-05T04:22:09.725764",
     "exception": false,
     "start_time": "2021-05-05T04:22:08.137532",
     "status": "completed"
    },
    "tags": []
   },
   "outputs": [
    {
     "name": "stdout",
     "output_type": "stream",
     "text": [
      "[nltk_data] Downloading package stopwords to /usr/share/nltk_data...\n",
      "[nltk_data]   Package stopwords is already up-to-date!\n"
     ]
    },
    {
     "data": {
      "text/plain": [
       "True"
      ]
     },
     "execution_count": 2,
     "metadata": {},
     "output_type": "execute_result"
    }
   ],
   "source": [
    "import pandas as pd\n",
    "import matplotlib.pyplot as plt\n",
    "import seaborn as sns\n",
    "import re\n",
    "import string\n",
    "string.punctuation\n",
    "import nltk\n",
    "from nltk.corpus import stopwords\n",
    "nltk.download('stopwords')"
   ]
  },
  {
   "cell_type": "markdown",
   "id": "transparent-footwear",
   "metadata": {
    "papermill": {
     "duration": 0.034353,
     "end_time": "2021-05-05T04:22:09.794082",
     "exception": false,
     "start_time": "2021-05-05T04:22:09.759729",
     "status": "completed"
    },
    "tags": []
   },
   "source": [
    "Load train and test data"
   ]
  },
  {
   "cell_type": "code",
   "execution_count": 3,
   "id": "young-croatia",
   "metadata": {
    "execution": {
     "iopub.execute_input": "2021-05-05T04:22:09.886141Z",
     "iopub.status.busy": "2021-05-05T04:22:09.885541Z",
     "iopub.status.idle": "2021-05-05T04:22:09.991219Z",
     "shell.execute_reply": "2021-05-05T04:22:09.990528Z"
    },
    "papermill": {
     "duration": 0.163147,
     "end_time": "2021-05-05T04:22:09.991359",
     "exception": false,
     "start_time": "2021-05-05T04:22:09.828212",
     "status": "completed"
    },
    "tags": []
   },
   "outputs": [],
   "source": [
    "train_data = pd.read_csv(\"../input/nlp-getting-started/train.csv\")\n",
    "test_data = pd.read_csv(\"../input/nlp-getting-started/test.csv\")"
   ]
  },
  {
   "cell_type": "markdown",
   "id": "professional-advance",
   "metadata": {
    "papermill": {
     "duration": 0.033825,
     "end_time": "2021-05-05T04:22:10.059488",
     "exception": false,
     "start_time": "2021-05-05T04:22:10.025663",
     "status": "completed"
    },
    "tags": []
   },
   "source": [
    "**Exploratory Data Analysis (EDA)**"
   ]
  },
  {
   "cell_type": "markdown",
   "id": "threaded-municipality",
   "metadata": {
    "papermill": {
     "duration": 0.06135,
     "end_time": "2021-05-05T04:22:10.169987",
     "exception": false,
     "start_time": "2021-05-05T04:22:10.108637",
     "status": "completed"
    },
    "tags": []
   },
   "source": [
    "Here you can see the first 5 rows of the train and test data and see the preview of the train and test dataset."
   ]
  },
  {
   "cell_type": "code",
   "execution_count": 4,
   "id": "systematic-acquisition",
   "metadata": {
    "execution": {
     "iopub.execute_input": "2021-05-05T04:22:10.287455Z",
     "iopub.status.busy": "2021-05-05T04:22:10.286636Z",
     "iopub.status.idle": "2021-05-05T04:22:10.441698Z",
     "shell.execute_reply": "2021-05-05T04:22:10.442681Z"
    },
    "papermill": {
     "duration": 0.218914,
     "end_time": "2021-05-05T04:22:10.442882",
     "exception": false,
     "start_time": "2021-05-05T04:22:10.223968",
     "status": "completed"
    },
    "tags": []
   },
   "outputs": [
    {
     "data": {
      "text/html": [
       "<div>\n",
       "<style scoped>\n",
       "    .dataframe tbody tr th:only-of-type {\n",
       "        vertical-align: middle;\n",
       "    }\n",
       "\n",
       "    .dataframe tbody tr th {\n",
       "        vertical-align: top;\n",
       "    }\n",
       "\n",
       "    .dataframe thead th {\n",
       "        text-align: right;\n",
       "    }\n",
       "</style>\n",
       "<table border=\"1\" class=\"dataframe\">\n",
       "  <thead>\n",
       "    <tr style=\"text-align: right;\">\n",
       "      <th></th>\n",
       "      <th>id</th>\n",
       "      <th>keyword</th>\n",
       "      <th>location</th>\n",
       "      <th>text</th>\n",
       "      <th>target</th>\n",
       "    </tr>\n",
       "  </thead>\n",
       "  <tbody>\n",
       "    <tr>\n",
       "      <th>0</th>\n",
       "      <td>1</td>\n",
       "      <td>NaN</td>\n",
       "      <td>NaN</td>\n",
       "      <td>Our Deeds are the Reason of this #earthquake M...</td>\n",
       "      <td>1</td>\n",
       "    </tr>\n",
       "    <tr>\n",
       "      <th>1</th>\n",
       "      <td>4</td>\n",
       "      <td>NaN</td>\n",
       "      <td>NaN</td>\n",
       "      <td>Forest fire near La Ronge Sask. Canada</td>\n",
       "      <td>1</td>\n",
       "    </tr>\n",
       "    <tr>\n",
       "      <th>2</th>\n",
       "      <td>5</td>\n",
       "      <td>NaN</td>\n",
       "      <td>NaN</td>\n",
       "      <td>All residents asked to 'shelter in place' are ...</td>\n",
       "      <td>1</td>\n",
       "    </tr>\n",
       "    <tr>\n",
       "      <th>3</th>\n",
       "      <td>6</td>\n",
       "      <td>NaN</td>\n",
       "      <td>NaN</td>\n",
       "      <td>13,000 people receive #wildfires evacuation or...</td>\n",
       "      <td>1</td>\n",
       "    </tr>\n",
       "    <tr>\n",
       "      <th>4</th>\n",
       "      <td>7</td>\n",
       "      <td>NaN</td>\n",
       "      <td>NaN</td>\n",
       "      <td>Just got sent this photo from Ruby #Alaska as ...</td>\n",
       "      <td>1</td>\n",
       "    </tr>\n",
       "  </tbody>\n",
       "</table>\n",
       "</div>"
      ],
      "text/plain": [
       "   id keyword location                                               text  \\\n",
       "0   1     NaN      NaN  Our Deeds are the Reason of this #earthquake M...   \n",
       "1   4     NaN      NaN             Forest fire near La Ronge Sask. Canada   \n",
       "2   5     NaN      NaN  All residents asked to 'shelter in place' are ...   \n",
       "3   6     NaN      NaN  13,000 people receive #wildfires evacuation or...   \n",
       "4   7     NaN      NaN  Just got sent this photo from Ruby #Alaska as ...   \n",
       "\n",
       "   target  \n",
       "0       1  \n",
       "1       1  \n",
       "2       1  \n",
       "3       1  \n",
       "4       1  "
      ]
     },
     "execution_count": 4,
     "metadata": {},
     "output_type": "execute_result"
    }
   ],
   "source": [
    "train_data.head()"
   ]
  },
  {
   "cell_type": "code",
   "execution_count": 5,
   "id": "present-parks",
   "metadata": {
    "execution": {
     "iopub.execute_input": "2021-05-05T04:22:10.565560Z",
     "iopub.status.busy": "2021-05-05T04:22:10.564806Z",
     "iopub.status.idle": "2021-05-05T04:22:10.571349Z",
     "shell.execute_reply": "2021-05-05T04:22:10.571928Z"
    },
    "papermill": {
     "duration": 0.073654,
     "end_time": "2021-05-05T04:22:10.572105",
     "exception": false,
     "start_time": "2021-05-05T04:22:10.498451",
     "status": "completed"
    },
    "tags": []
   },
   "outputs": [
    {
     "data": {
      "text/html": [
       "<div>\n",
       "<style scoped>\n",
       "    .dataframe tbody tr th:only-of-type {\n",
       "        vertical-align: middle;\n",
       "    }\n",
       "\n",
       "    .dataframe tbody tr th {\n",
       "        vertical-align: top;\n",
       "    }\n",
       "\n",
       "    .dataframe thead th {\n",
       "        text-align: right;\n",
       "    }\n",
       "</style>\n",
       "<table border=\"1\" class=\"dataframe\">\n",
       "  <thead>\n",
       "    <tr style=\"text-align: right;\">\n",
       "      <th></th>\n",
       "      <th>id</th>\n",
       "      <th>keyword</th>\n",
       "      <th>location</th>\n",
       "      <th>text</th>\n",
       "    </tr>\n",
       "  </thead>\n",
       "  <tbody>\n",
       "    <tr>\n",
       "      <th>0</th>\n",
       "      <td>0</td>\n",
       "      <td>NaN</td>\n",
       "      <td>NaN</td>\n",
       "      <td>Just happened a terrible car crash</td>\n",
       "    </tr>\n",
       "    <tr>\n",
       "      <th>1</th>\n",
       "      <td>2</td>\n",
       "      <td>NaN</td>\n",
       "      <td>NaN</td>\n",
       "      <td>Heard about #earthquake is different cities, s...</td>\n",
       "    </tr>\n",
       "    <tr>\n",
       "      <th>2</th>\n",
       "      <td>3</td>\n",
       "      <td>NaN</td>\n",
       "      <td>NaN</td>\n",
       "      <td>there is a forest fire at spot pond, geese are...</td>\n",
       "    </tr>\n",
       "    <tr>\n",
       "      <th>3</th>\n",
       "      <td>9</td>\n",
       "      <td>NaN</td>\n",
       "      <td>NaN</td>\n",
       "      <td>Apocalypse lighting. #Spokane #wildfires</td>\n",
       "    </tr>\n",
       "    <tr>\n",
       "      <th>4</th>\n",
       "      <td>11</td>\n",
       "      <td>NaN</td>\n",
       "      <td>NaN</td>\n",
       "      <td>Typhoon Soudelor kills 28 in China and Taiwan</td>\n",
       "    </tr>\n",
       "  </tbody>\n",
       "</table>\n",
       "</div>"
      ],
      "text/plain": [
       "   id keyword location                                               text\n",
       "0   0     NaN      NaN                 Just happened a terrible car crash\n",
       "1   2     NaN      NaN  Heard about #earthquake is different cities, s...\n",
       "2   3     NaN      NaN  there is a forest fire at spot pond, geese are...\n",
       "3   9     NaN      NaN           Apocalypse lighting. #Spokane #wildfires\n",
       "4  11     NaN      NaN      Typhoon Soudelor kills 28 in China and Taiwan"
      ]
     },
     "execution_count": 5,
     "metadata": {},
     "output_type": "execute_result"
    }
   ],
   "source": [
    "test_data.head()"
   ]
  },
  {
   "cell_type": "code",
   "execution_count": 6,
   "id": "interested-continent",
   "metadata": {
    "execution": {
     "iopub.execute_input": "2021-05-05T04:22:10.780020Z",
     "iopub.status.busy": "2021-05-05T04:22:10.779215Z",
     "iopub.status.idle": "2021-05-05T04:22:10.782444Z",
     "shell.execute_reply": "2021-05-05T04:22:10.780654Z"
    },
    "papermill": {
     "duration": 0.132329,
     "end_time": "2021-05-05T04:22:10.782593",
     "exception": false,
     "start_time": "2021-05-05T04:22:10.650264",
     "status": "completed"
    },
    "tags": []
   },
   "outputs": [
    {
     "name": "stdout",
     "output_type": "stream",
     "text": [
      "(7613, 5)\n",
      "(3263, 4)\n"
     ]
    }
   ],
   "source": [
    "print(train_data.shape)\n",
    "print(test_data.shape)"
   ]
  },
  {
   "cell_type": "code",
   "execution_count": 7,
   "id": "adopted-marine",
   "metadata": {
    "execution": {
     "iopub.execute_input": "2021-05-05T04:22:11.015537Z",
     "iopub.status.busy": "2021-05-05T04:22:11.008594Z",
     "iopub.status.idle": "2021-05-05T04:22:11.032384Z",
     "shell.execute_reply": "2021-05-05T04:22:11.033095Z"
    },
    "papermill": {
     "duration": 0.198761,
     "end_time": "2021-05-05T04:22:11.033317",
     "exception": false,
     "start_time": "2021-05-05T04:22:10.834556",
     "status": "completed"
    },
    "tags": []
   },
   "outputs": [
    {
     "name": "stdout",
     "output_type": "stream",
     "text": [
      "<class 'pandas.core.frame.DataFrame'>\n",
      "RangeIndex: 7613 entries, 0 to 7612\n",
      "Data columns (total 5 columns):\n",
      " #   Column    Non-Null Count  Dtype \n",
      "---  ------    --------------  ----- \n",
      " 0   id        7613 non-null   int64 \n",
      " 1   keyword   7552 non-null   object\n",
      " 2   location  5080 non-null   object\n",
      " 3   text      7613 non-null   object\n",
      " 4   target    7613 non-null   int64 \n",
      "dtypes: int64(2), object(3)\n",
      "memory usage: 297.5+ KB\n"
     ]
    }
   ],
   "source": [
    "train_data.info()"
   ]
  },
  {
   "cell_type": "markdown",
   "id": "unique-array",
   "metadata": {
    "papermill": {
     "duration": 0.11374,
     "end_time": "2021-05-05T04:22:11.184077",
     "exception": false,
     "start_time": "2021-05-05T04:22:11.070337",
     "status": "completed"
    },
    "tags": []
   },
   "source": [
    "Check nulls"
   ]
  },
  {
   "cell_type": "code",
   "execution_count": 8,
   "id": "placed-trailer",
   "metadata": {
    "execution": {
     "iopub.execute_input": "2021-05-05T04:22:11.306474Z",
     "iopub.status.busy": "2021-05-05T04:22:11.305776Z",
     "iopub.status.idle": "2021-05-05T04:22:11.313257Z",
     "shell.execute_reply": "2021-05-05T04:22:11.314458Z"
    },
    "papermill": {
     "duration": 0.070579,
     "end_time": "2021-05-05T04:22:11.314635",
     "exception": false,
     "start_time": "2021-05-05T04:22:11.244056",
     "status": "completed"
    },
    "tags": []
   },
   "outputs": [
    {
     "data": {
      "text/plain": [
       "id             0\n",
       "keyword       61\n",
       "location    2533\n",
       "text           0\n",
       "target         0\n",
       "dtype: int64"
      ]
     },
     "execution_count": 8,
     "metadata": {},
     "output_type": "execute_result"
    }
   ],
   "source": [
    "train_data.isnull().sum()"
   ]
  },
  {
   "cell_type": "code",
   "execution_count": 9,
   "id": "standing-scout",
   "metadata": {
    "execution": {
     "iopub.execute_input": "2021-05-05T04:22:11.432314Z",
     "iopub.status.busy": "2021-05-05T04:22:11.431638Z",
     "iopub.status.idle": "2021-05-05T04:22:11.434689Z",
     "shell.execute_reply": "2021-05-05T04:22:11.435134Z"
    },
    "papermill": {
     "duration": 0.065982,
     "end_time": "2021-05-05T04:22:11.435265",
     "exception": false,
     "start_time": "2021-05-05T04:22:11.369283",
     "status": "completed"
    },
    "tags": []
   },
   "outputs": [
    {
     "data": {
      "text/plain": [
       "id             0\n",
       "keyword       26\n",
       "location    1105\n",
       "text           0\n",
       "dtype: int64"
      ]
     },
     "execution_count": 9,
     "metadata": {},
     "output_type": "execute_result"
    }
   ],
   "source": [
    "test_data.isnull().sum()"
   ]
  },
  {
   "cell_type": "markdown",
   "id": "olympic-oxford",
   "metadata": {
    "papermill": {
     "duration": 0.03596,
     "end_time": "2021-05-05T04:22:11.507515",
     "exception": false,
     "start_time": "2021-05-05T04:22:11.471555",
     "status": "completed"
    },
    "tags": []
   },
   "source": [
    "Investigate \"keywords\"\n"
   ]
  },
  {
   "cell_type": "code",
   "execution_count": 10,
   "id": "unauthorized-saturday",
   "metadata": {
    "execution": {
     "iopub.execute_input": "2021-05-05T04:22:11.586515Z",
     "iopub.status.busy": "2021-05-05T04:22:11.585962Z",
     "iopub.status.idle": "2021-05-05T04:22:11.589039Z",
     "shell.execute_reply": "2021-05-05T04:22:11.589606Z"
    },
    "papermill": {
     "duration": 0.046215,
     "end_time": "2021-05-05T04:22:11.589798",
     "exception": false,
     "start_time": "2021-05-05T04:22:11.543583",
     "status": "completed"
    },
    "tags": []
   },
   "outputs": [
    {
     "name": "stdout",
     "output_type": "stream",
     "text": [
      "221\n"
     ]
    }
   ],
   "source": [
    "# check total number of keywords\n",
    "print(len(train_data['keyword'].value_counts()))"
   ]
  },
  {
   "cell_type": "code",
   "execution_count": 11,
   "id": "peripheral-papua",
   "metadata": {
    "execution": {
     "iopub.execute_input": "2021-05-05T04:22:11.672312Z",
     "iopub.status.busy": "2021-05-05T04:22:11.671604Z",
     "iopub.status.idle": "2021-05-05T04:22:11.675085Z",
     "shell.execute_reply": "2021-05-05T04:22:11.674687Z"
    },
    "papermill": {
     "duration": 0.047223,
     "end_time": "2021-05-05T04:22:11.675194",
     "exception": false,
     "start_time": "2021-05-05T04:22:11.627971",
     "status": "completed"
    },
    "tags": []
   },
   "outputs": [
    {
     "data": {
      "text/plain": [
       "fatalities     45\n",
       "deluge         42\n",
       "armageddon     42\n",
       "harm           41\n",
       "sinking        41\n",
       "damage         41\n",
       "body%20bags    41\n",
       "siren          40\n",
       "outbreak       40\n",
       "twister        40\n",
       "evacuate       40\n",
       "collided       40\n",
       "fear           40\n",
       "windstorm      40\n",
       "derailment     39\n",
       "collision      39\n",
       "weapon         39\n",
       "weapons        39\n",
       "sunk           39\n",
       "sinkhole       39\n",
       "flames         39\n",
       "wreckage       39\n",
       "famine         39\n",
       "earthquake     39\n",
       "whirlwind      39\n",
       "explosion      39\n",
       "hellfire       39\n",
       "wrecked        39\n",
       "oil%20spill    38\n",
       "hurricane      38\n",
       "Name: keyword, dtype: int64"
      ]
     },
     "execution_count": 11,
     "metadata": {},
     "output_type": "execute_result"
    }
   ],
   "source": [
    "#top 30 keywords\n",
    "train_data['keyword'].value_counts()[0:30]"
   ]
  },
  {
   "cell_type": "code",
   "execution_count": 12,
   "id": "nervous-thanks",
   "metadata": {
    "execution": {
     "iopub.execute_input": "2021-05-05T04:22:11.752376Z",
     "iopub.status.busy": "2021-05-05T04:22:11.751621Z",
     "iopub.status.idle": "2021-05-05T04:22:11.772517Z",
     "shell.execute_reply": "2021-05-05T04:22:11.773163Z"
    },
    "papermill": {
     "duration": 0.061937,
     "end_time": "2021-05-05T04:22:11.773338",
     "exception": false,
     "start_time": "2021-05-05T04:22:11.711401",
     "status": "completed"
    },
    "tags": []
   },
   "outputs": [
    {
     "name": "stdout",
     "output_type": "stream",
     "text": [
      "Disaster keywords : \n",
      "outbreak             39\n",
      "wreckage             39\n",
      "derailment           39\n",
      "debris               37\n",
      "oil%20spill          37\n",
      "typhoon              37\n",
      "evacuated            32\n",
      "rescuers             32\n",
      "suicide%20bombing    32\n",
      "suicide%20bomb       32\n",
      "Name: keyword, dtype: int64\n"
     ]
    }
   ],
   "source": [
    "# Top 10 disaster keywords \n",
    "disaster_keyword = train_data[train_data[\"target\"] == 1][\"keyword\"].value_counts()\n",
    "print(\"Disaster keywords : \")\n",
    "print(disaster_keyword[0:10])"
   ]
  },
  {
   "cell_type": "code",
   "execution_count": 13,
   "id": "abandoned-cheat",
   "metadata": {
    "execution": {
     "iopub.execute_input": "2021-05-05T04:22:11.853306Z",
     "iopub.status.busy": "2021-05-05T04:22:11.852470Z",
     "iopub.status.idle": "2021-05-05T04:22:11.859861Z",
     "shell.execute_reply": "2021-05-05T04:22:11.860308Z"
    },
    "papermill": {
     "duration": 0.049394,
     "end_time": "2021-05-05T04:22:11.860437",
     "exception": false,
     "start_time": "2021-05-05T04:22:11.811043",
     "status": "completed"
    },
    "tags": []
   },
   "outputs": [
    {
     "name": "stdout",
     "output_type": "stream",
     "text": [
      "Non-Disaster keywords : \n",
      "body%20bags    40\n",
      "harm           37\n",
      "armageddon     37\n",
      "ruin           36\n",
      "deluge         36\n",
      "wrecked        36\n",
      "fear           35\n",
      "explode        35\n",
      "siren          35\n",
      "twister        35\n",
      "Name: keyword, dtype: int64\n"
     ]
    }
   ],
   "source": [
    "# Top 10 Non-disaster keywords \n",
    "non_disaster_keyword = train_data[train_data[\"target\"] == 0][\"keyword\"].value_counts()\n",
    "print(\"Non-Disaster keywords : \")\n",
    "print(non_disaster_keyword[0:10])"
   ]
  },
  {
   "cell_type": "markdown",
   "id": "oriental-living",
   "metadata": {
    "papermill": {
     "duration": 0.037565,
     "end_time": "2021-05-05T04:22:11.935627",
     "exception": false,
     "start_time": "2021-05-05T04:22:11.898062",
     "status": "completed"
    },
    "tags": []
   },
   "source": [
    "Investigate \"location\""
   ]
  },
  {
   "cell_type": "code",
   "execution_count": 14,
   "id": "listed-fraction",
   "metadata": {
    "execution": {
     "iopub.execute_input": "2021-05-05T04:22:12.020089Z",
     "iopub.status.busy": "2021-05-05T04:22:12.019261Z",
     "iopub.status.idle": "2021-05-05T04:22:12.023868Z",
     "shell.execute_reply": "2021-05-05T04:22:12.024479Z"
    },
    "papermill": {
     "duration": 0.049712,
     "end_time": "2021-05-05T04:22:12.024655",
     "exception": false,
     "start_time": "2021-05-05T04:22:11.974943",
     "status": "completed"
    },
    "tags": []
   },
   "outputs": [
    {
     "name": "stdout",
     "output_type": "stream",
     "text": [
      "3341\n"
     ]
    }
   ],
   "source": [
    "#print total number of locations\n",
    "print(len(train_data['location'].value_counts()))"
   ]
  },
  {
   "cell_type": "code",
   "execution_count": 15,
   "id": "surrounded-pierce",
   "metadata": {
    "execution": {
     "iopub.execute_input": "2021-05-05T04:22:12.108578Z",
     "iopub.status.busy": "2021-05-05T04:22:12.107824Z",
     "iopub.status.idle": "2021-05-05T04:22:12.113453Z",
     "shell.execute_reply": "2021-05-05T04:22:12.113918Z"
    },
    "papermill": {
     "duration": 0.050812,
     "end_time": "2021-05-05T04:22:12.114055",
     "exception": false,
     "start_time": "2021-05-05T04:22:12.063243",
     "status": "completed"
    },
    "tags": []
   },
   "outputs": [
    {
     "data": {
      "text/plain": [
       "USA                104\n",
       "New York            71\n",
       "United States       50\n",
       "London              45\n",
       "Canada              29\n",
       "Nigeria             28\n",
       "UK                  27\n",
       "Los Angeles, CA     26\n",
       "India               24\n",
       "Mumbai              22\n",
       "Name: location, dtype: int64"
      ]
     },
     "execution_count": 15,
     "metadata": {},
     "output_type": "execute_result"
    }
   ],
   "source": [
    "# top 10 locations\n",
    "train_data['location'].value_counts()[0:10]"
   ]
  },
  {
   "cell_type": "code",
   "execution_count": 16,
   "id": "younger-uncertainty",
   "metadata": {
    "execution": {
     "iopub.execute_input": "2021-05-05T04:22:12.197034Z",
     "iopub.status.busy": "2021-05-05T04:22:12.196230Z",
     "iopub.status.idle": "2021-05-05T04:22:12.203981Z",
     "shell.execute_reply": "2021-05-05T04:22:12.204656Z"
    },
    "papermill": {
     "duration": 0.052017,
     "end_time": "2021-05-05T04:22:12.204851",
     "exception": false,
     "start_time": "2021-05-05T04:22:12.152834",
     "status": "completed"
    },
    "tags": []
   },
   "outputs": [
    {
     "name": "stdout",
     "output_type": "stream",
     "text": [
      "Disaster locations : \n",
      "USA               67\n",
      "United States     27\n",
      "Nigeria           22\n",
      "India             20\n",
      "Mumbai            19\n",
      "New York          16\n",
      "UK                16\n",
      "London            16\n",
      "Washington, DC    15\n",
      "Canada            13\n",
      "Name: location, dtype: int64\n"
     ]
    }
   ],
   "source": [
    "# Top 10 disaster locations \n",
    "disaster_location = train_data[train_data[\"target\"] == 1][\"location\"].value_counts()\n",
    "print(\"Disaster locations : \")\n",
    "print(disaster_location[0:10])"
   ]
  },
  {
   "cell_type": "code",
   "execution_count": 17,
   "id": "developing-crime",
   "metadata": {
    "execution": {
     "iopub.execute_input": "2021-05-05T04:22:12.288680Z",
     "iopub.status.busy": "2021-05-05T04:22:12.287880Z",
     "iopub.status.idle": "2021-05-05T04:22:12.295816Z",
     "shell.execute_reply": "2021-05-05T04:22:12.296250Z"
    },
    "papermill": {
     "duration": 0.051594,
     "end_time": "2021-05-05T04:22:12.296389",
     "exception": false,
     "start_time": "2021-05-05T04:22:12.244795",
     "status": "completed"
    },
    "tags": []
   },
   "outputs": [
    {
     "name": "stdout",
     "output_type": "stream",
     "text": [
      "Non-Disaster locations : \n",
      "New York           55\n",
      "USA                37\n",
      "London             29\n",
      "United States      23\n",
      "Los Angeles, CA    18\n",
      "Canada             16\n",
      "Kenya              15\n",
      "Everywhere         12\n",
      "Florida            11\n",
      "UK                 11\n",
      "Name: location, dtype: int64\n"
     ]
    }
   ],
   "source": [
    "# Top 10 Non-disaster location \n",
    "non_disaster_location = train_data[train_data[\"target\"] == 0][\"location\"].value_counts()\n",
    "print(\"Non-Disaster locations : \")\n",
    "print(non_disaster_location[0:10])"
   ]
  },
  {
   "cell_type": "markdown",
   "id": "coordinated-lease",
   "metadata": {
    "papermill": {
     "duration": 0.039735,
     "end_time": "2021-05-05T04:22:12.375175",
     "exception": false,
     "start_time": "2021-05-05T04:22:12.335440",
     "status": "completed"
    },
    "tags": []
   },
   "source": [
    "Investigate \"tweet\""
   ]
  },
  {
   "cell_type": "code",
   "execution_count": 18,
   "id": "monetary-serbia",
   "metadata": {
    "execution": {
     "iopub.execute_input": "2021-05-05T04:22:12.461428Z",
     "iopub.status.busy": "2021-05-05T04:22:12.460632Z",
     "iopub.status.idle": "2021-05-05T04:22:12.463575Z",
     "shell.execute_reply": "2021-05-05T04:22:12.463158Z"
    },
    "papermill": {
     "duration": 0.049242,
     "end_time": "2021-05-05T04:22:12.463700",
     "exception": false,
     "start_time": "2021-05-05T04:22:12.414458",
     "status": "completed"
    },
    "tags": []
   },
   "outputs": [],
   "source": [
    "#creating a new column of each tweet length\n",
    "train_data['each_tweet_len'] = train_data['text'].apply(len)"
   ]
  },
  {
   "cell_type": "code",
   "execution_count": 19,
   "id": "broke-atlas",
   "metadata": {
    "execution": {
     "iopub.execute_input": "2021-05-05T04:22:12.550563Z",
     "iopub.status.busy": "2021-05-05T04:22:12.549941Z",
     "iopub.status.idle": "2021-05-05T04:22:12.553295Z",
     "shell.execute_reply": "2021-05-05T04:22:12.553906Z"
    },
    "papermill": {
     "duration": 0.050962,
     "end_time": "2021-05-05T04:22:12.554086",
     "exception": false,
     "start_time": "2021-05-05T04:22:12.503124",
     "status": "completed"
    },
    "tags": []
   },
   "outputs": [
    {
     "name": "stdout",
     "output_type": "stream",
     "text": [
      "Minimum Tweet Length:  7\n",
      "Maximum Tweet Length:  157\n"
     ]
    }
   ],
   "source": [
    "# print maximum and minimum length of the tweet\n",
    "print(\"Minimum Tweet Length: \", min(train_data['each_tweet_len']))\n",
    "print(\"Maximum Tweet Length: \", max(train_data['each_tweet_len']))"
   ]
  },
  {
   "cell_type": "code",
   "execution_count": 20,
   "id": "arctic-olympus",
   "metadata": {
    "execution": {
     "iopub.execute_input": "2021-05-05T04:22:12.644636Z",
     "iopub.status.busy": "2021-05-05T04:22:12.643869Z",
     "iopub.status.idle": "2021-05-05T04:22:12.647653Z",
     "shell.execute_reply": "2021-05-05T04:22:12.647229Z"
    },
    "papermill": {
     "duration": 0.05321,
     "end_time": "2021-05-05T04:22:12.647783",
     "exception": false,
     "start_time": "2021-05-05T04:22:12.594573",
     "status": "completed"
    },
    "tags": []
   },
   "outputs": [
    {
     "data": {
      "text/html": [
       "<div>\n",
       "<style scoped>\n",
       "    .dataframe tbody tr th:only-of-type {\n",
       "        vertical-align: middle;\n",
       "    }\n",
       "\n",
       "    .dataframe tbody tr th {\n",
       "        vertical-align: top;\n",
       "    }\n",
       "\n",
       "    .dataframe thead th {\n",
       "        text-align: right;\n",
       "    }\n",
       "</style>\n",
       "<table border=\"1\" class=\"dataframe\">\n",
       "  <thead>\n",
       "    <tr style=\"text-align: right;\">\n",
       "      <th></th>\n",
       "      <th>id</th>\n",
       "      <th>keyword</th>\n",
       "      <th>location</th>\n",
       "      <th>text</th>\n",
       "      <th>target</th>\n",
       "      <th>each_tweet_len</th>\n",
       "    </tr>\n",
       "  </thead>\n",
       "  <tbody>\n",
       "    <tr>\n",
       "      <th>0</th>\n",
       "      <td>1</td>\n",
       "      <td>NaN</td>\n",
       "      <td>NaN</td>\n",
       "      <td>Our Deeds are the Reason of this #earthquake M...</td>\n",
       "      <td>1</td>\n",
       "      <td>69</td>\n",
       "    </tr>\n",
       "    <tr>\n",
       "      <th>1</th>\n",
       "      <td>4</td>\n",
       "      <td>NaN</td>\n",
       "      <td>NaN</td>\n",
       "      <td>Forest fire near La Ronge Sask. Canada</td>\n",
       "      <td>1</td>\n",
       "      <td>38</td>\n",
       "    </tr>\n",
       "    <tr>\n",
       "      <th>2</th>\n",
       "      <td>5</td>\n",
       "      <td>NaN</td>\n",
       "      <td>NaN</td>\n",
       "      <td>All residents asked to 'shelter in place' are ...</td>\n",
       "      <td>1</td>\n",
       "      <td>133</td>\n",
       "    </tr>\n",
       "    <tr>\n",
       "      <th>3</th>\n",
       "      <td>6</td>\n",
       "      <td>NaN</td>\n",
       "      <td>NaN</td>\n",
       "      <td>13,000 people receive #wildfires evacuation or...</td>\n",
       "      <td>1</td>\n",
       "      <td>65</td>\n",
       "    </tr>\n",
       "    <tr>\n",
       "      <th>4</th>\n",
       "      <td>7</td>\n",
       "      <td>NaN</td>\n",
       "      <td>NaN</td>\n",
       "      <td>Just got sent this photo from Ruby #Alaska as ...</td>\n",
       "      <td>1</td>\n",
       "      <td>88</td>\n",
       "    </tr>\n",
       "  </tbody>\n",
       "</table>\n",
       "</div>"
      ],
      "text/plain": [
       "   id keyword location                                               text  \\\n",
       "0   1     NaN      NaN  Our Deeds are the Reason of this #earthquake M...   \n",
       "1   4     NaN      NaN             Forest fire near La Ronge Sask. Canada   \n",
       "2   5     NaN      NaN  All residents asked to 'shelter in place' are ...   \n",
       "3   6     NaN      NaN  13,000 people receive #wildfires evacuation or...   \n",
       "4   7     NaN      NaN  Just got sent this photo from Ruby #Alaska as ...   \n",
       "\n",
       "   target  each_tweet_len  \n",
       "0       1              69  \n",
       "1       1              38  \n",
       "2       1             133  \n",
       "3       1              65  \n",
       "4       1              88  "
      ]
     },
     "execution_count": 20,
     "metadata": {},
     "output_type": "execute_result"
    }
   ],
   "source": [
    "# preview data\n",
    "train_data.head()"
   ]
  },
  {
   "cell_type": "markdown",
   "id": "sitting-freeware",
   "metadata": {
    "papermill": {
     "duration": 0.040315,
     "end_time": "2021-05-05T04:22:12.728584",
     "exception": false,
     "start_time": "2021-05-05T04:22:12.688269",
     "status": "completed"
    },
    "tags": []
   },
   "source": [
    "Create visualizations to understand the data. \n",
    "We created bar plots to show point estimates and confidence intervals as rectangular bars. We also created histograms using histplot(), an axes-level function for plotting histograms, including with kernel density smoothing."
   ]
  },
  {
   "cell_type": "code",
   "execution_count": 21,
   "id": "burning-teaching",
   "metadata": {
    "execution": {
     "iopub.execute_input": "2021-05-05T04:22:12.815768Z",
     "iopub.status.busy": "2021-05-05T04:22:12.814967Z",
     "iopub.status.idle": "2021-05-05T04:22:13.340559Z",
     "shell.execute_reply": "2021-05-05T04:22:13.340001Z"
    },
    "papermill": {
     "duration": 0.571854,
     "end_time": "2021-05-05T04:22:13.340710",
     "exception": false,
     "start_time": "2021-05-05T04:22:12.768856",
     "status": "completed"
    },
    "tags": []
   },
   "outputs": [
    {
     "data": {
      "image/png": "[encoded data removed]",
      "text/plain": [
       "<Figure size 1008x504 with 2 Axes>"
      ]
     },
     "metadata": {
      "needs_background": "light"
     },
     "output_type": "display_data"
    }
   ],
   "source": [
    "#visualizing tweet length\n",
    "g = sns.FacetGrid(train_data, col=\"target\", height=7)\n",
    "g = g.map(sns.histplot, \"each_tweet_len\")\n",
    "plt.suptitle(\"Tweet Length\")\n",
    "plt.show()"
   ]
  },
  {
   "cell_type": "code",
   "execution_count": 22,
   "id": "careful-swiss",
   "metadata": {
    "execution": {
     "iopub.execute_input": "2021-05-05T04:22:13.441994Z",
     "iopub.status.busy": "2021-05-05T04:22:13.441233Z",
     "iopub.status.idle": "2021-05-05T04:22:13.443998Z",
     "shell.execute_reply": "2021-05-05T04:22:13.443577Z"
    },
    "papermill": {
     "duration": 0.061498,
     "end_time": "2021-05-05T04:22:13.444112",
     "exception": false,
     "start_time": "2021-05-05T04:22:13.382614",
     "status": "completed"
    },
    "tags": []
   },
   "outputs": [],
   "source": [
    "#count number of words\n",
    "def word_count(x):\n",
    "    return len(x.split())\n",
    "    \n",
    "train_data[\"num_words\"] = train_data[\"text\"].apply(word_count)"
   ]
  },
  {
   "cell_type": "code",
   "execution_count": 23,
   "id": "particular-means",
   "metadata": {
    "execution": {
     "iopub.execute_input": "2021-05-05T04:22:13.531744Z",
     "iopub.status.busy": "2021-05-05T04:22:13.530933Z",
     "iopub.status.idle": "2021-05-05T04:22:14.015809Z",
     "shell.execute_reply": "2021-05-05T04:22:14.016500Z"
    },
    "papermill": {
     "duration": 0.53162,
     "end_time": "2021-05-05T04:22:14.016656",
     "exception": false,
     "start_time": "2021-05-05T04:22:13.485036",
     "status": "completed"
    },
    "tags": []
   },
   "outputs": [
    {
     "data": {
      "image/png": "[encoded data removed]",
      "text/plain": [
       "<Figure size 1008x504 with 2 Axes>"
      ]
     },
     "metadata": {
      "needs_background": "light"
     },
     "output_type": "display_data"
    }
   ],
   "source": [
    "#visualizing the number of words\n",
    "g = sns.FacetGrid(train_data, col=\"target\", height=7)\n",
    "g = g.map(sns.histplot, \"num_words\")\n",
    "plt.suptitle(\"Number of Words\")\n",
    "plt.show()"
   ]
  },
  {
   "cell_type": "code",
   "execution_count": 24,
   "id": "excited-tackle",
   "metadata": {
    "execution": {
     "iopub.execute_input": "2021-05-05T04:22:14.109341Z",
     "iopub.status.busy": "2021-05-05T04:22:14.108464Z",
     "iopub.status.idle": "2021-05-05T04:22:14.285496Z",
     "shell.execute_reply": "2021-05-05T04:22:14.285922Z"
    },
    "papermill": {
     "duration": 0.227038,
     "end_time": "2021-05-05T04:22:14.286097",
     "exception": false,
     "start_time": "2021-05-05T04:22:14.059059",
     "status": "completed"
    },
    "tags": []
   },
   "outputs": [
    {
     "name": "stdout",
     "output_type": "stream",
     "text": [
      "Not Disaster:4342 , Disaster: 3271\n",
      "Not Disaster:57.03% , Disaster: 42.97%\n"
     ]
    },
    {
     "data": {
      "image/png": "[encoded data removed]",
      "text/plain": [
       "<Figure size 432x288 with 2 Axes>"
      ]
     },
     "metadata": {
      "needs_background": "light"
     },
     "output_type": "display_data"
    }
   ],
   "source": [
    "# created bar chart to compare tweets classified as disaster or not disaster\n",
    "target_vc = train_data[\"target\"].value_counts()\n",
    "target_vc1 = train_data[\"target\"].value_counts(normalize=True)\n",
    "\n",
    "print(\"Not Disaster:{} , Disaster: {}\".format(target_vc[0], target_vc[1]))\n",
    "print(\"Not Disaster:{:.2%} , Disaster: {:.2%}\".format(target_vc1[0], target_vc1[1]))\n",
    "\n",
    "fig, axes = plt.subplots(1,2)\n",
    "sns.barplot(x=target_vc.index, y=target_vc, ax=axes[0])\n",
    "sns.barplot(x=target_vc1.index, y=target_vc1, ax=axes[1])\n",
    "plt.title(\"Histogram of Disaster vs. Non-Disaster\")\n",
    "plt.xlabel(\"0 = Non-Disaster,   1 = Disaster\")\n",
    "plt.show()"
   ]
  },
  {
   "cell_type": "markdown",
   "id": "honest-judges",
   "metadata": {
    "papermill": {
     "duration": 0.043481,
     "end_time": "2021-05-05T04:22:14.373844",
     "exception": false,
     "start_time": "2021-05-05T04:22:14.330363",
     "status": "completed"
    },
    "tags": []
   },
   "source": [
    "Install GPUtil"
   ]
  },
  {
   "cell_type": "code",
   "execution_count": 25,
   "id": "hazardous-diagnosis",
   "metadata": {
    "execution": {
     "iopub.execute_input": "2021-05-05T04:22:14.468624Z",
     "iopub.status.busy": "2021-05-05T04:22:14.468098Z",
     "iopub.status.idle": "2021-05-05T04:22:26.040487Z",
     "shell.execute_reply": "2021-05-05T04:22:26.039642Z"
    },
    "papermill": {
     "duration": 11.623023,
     "end_time": "2021-05-05T04:22:26.040625",
     "exception": false,
     "start_time": "2021-05-05T04:22:14.417602",
     "status": "completed"
    },
    "tags": []
   },
   "outputs": [
    {
     "name": "stdout",
     "output_type": "stream",
     "text": [
      "Collecting GPUtil\r\n",
      "  Downloading GPUtil-1.4.0.tar.gz (5.5 kB)\r\n",
      "Building wheels for collected packages: GPUtil\r\n",
      "  Building wheel for GPUtil (setup.py) ... \u001b[?25l-\b \b\\\b \bdone\r\n",
      "\u001b[?25h  Created wheel for GPUtil: filename=GPUtil-1.4.0-py3-none-any.whl size=7410 sha256=551c8591ee3ed24ea1236238a102207820c891caffc5485a02d983a0a12bd6bf\r\n",
      "  Stored in directory: /root/.cache/pip/wheels/6e/f8/83/534c52482d6da64622ddbf72cd93c35d2ef2881b78fd08ff0c\r\n",
      "Successfully built GPUtil\r\n",
      "Installing collected packages: GPUtil\r\n",
      "Successfully installed GPUtil-1.4.0\r\n"
     ]
    }
   ],
   "source": [
    "!pip install GPUtil\n",
    "\n",
    "import torch\n",
    "from GPUtil import showUtilization as gpu_usage\n",
    "from numba import cuda\n",
    "import gc\n",
    "\n",
    "def free_gpu_cache():\n",
    "    print(\"Initial GPU Usage\")\n",
    "    gpu_usage()                             \n",
    "\n",
    "    torch.cuda.empty_cache()\n",
    "\n",
    "    cuda.select_device(0)\n",
    "    cuda.close()\n",
    "    cuda.select_device(0)\n",
    "\n",
    "    for obj in gc.get_objects():\n",
    "        if torch.is_tensor(obj):\n",
    "            del obj\n",
    "    gc.collect()\n",
    "    \n",
    "    print(\"GPU Usage after emptying the cache\")\n",
    "    gpu_usage()"
   ]
  },
  {
   "cell_type": "markdown",
   "id": "circular-attribute",
   "metadata": {
    "papermill": {
     "duration": 0.046126,
     "end_time": "2021-05-05T04:22:26.135340",
     "exception": false,
     "start_time": "2021-05-05T04:22:26.089214",
     "status": "completed"
    },
    "tags": []
   },
   "source": [
    "**Data Preprocessing**"
   ]
  },
  {
   "cell_type": "code",
   "execution_count": 26,
   "id": "prescribed-madrid",
   "metadata": {
    "execution": {
     "iopub.execute_input": "2021-05-05T04:22:26.252802Z",
     "iopub.status.busy": "2021-05-05T04:22:26.243007Z",
     "iopub.status.idle": "2021-05-05T04:22:26.254738Z",
     "shell.execute_reply": "2021-05-05T04:22:26.255144Z"
    },
    "papermill": {
     "duration": 0.073832,
     "end_time": "2021-05-05T04:22:26.255278",
     "exception": false,
     "start_time": "2021-05-05T04:22:26.181446",
     "status": "completed"
    },
    "tags": []
   },
   "outputs": [],
   "source": [
    "#listing all abbreviations\n",
    "abbreviations = {\n",
    "    \"$\" : \" dollar \",\n",
    "    \"€\" : \" euro \",\n",
    "    \"4ao\" : \"for adults only\",\n",
    "    \"a.m\" : \"before midday\",\n",
    "    \"a3\" : \"anytime anywhere anyplace\",\n",
    "    \"aamof\" : \"as a matter of fact\",\n",
    "    \"acct\" : \"account\",\n",
    "    \"adih\" : \"another day in hell\",\n",
    "    \"afaic\" : \"as far as i am concerned\",\n",
    "    \"afaict\" : \"as far as i can tell\",\n",
    "    \"afaik\" : \"as far as i know\",\n",
    "    \"afair\" : \"as far as i remember\",\n",
    "    \"afk\" : \"away from keyboard\",\n",
    "    \"app\" : \"application\",\n",
    "    \"approx\" : \"approximately\",\n",
    "    \"apps\" : \"applications\",\n",
    "    \"asap\" : \"as soon as possible\",\n",
    "    \"asl\" : \"age, sex, location\",\n",
    "    \"atk\" : \"at the keyboard\",\n",
    "    \"ave.\" : \"avenue\",\n",
    "    \"aymm\" : \"are you my mother\",\n",
    "    \"ayor\" : \"at your own risk\", \n",
    "    \"b&b\" : \"bed and breakfast\",\n",
    "    \"b+b\" : \"bed and breakfast\",\n",
    "    \"b.c\" : \"before christ\",\n",
    "    \"b2b\" : \"business to business\",\n",
    "    \"b2c\" : \"business to customer\",\n",
    "    \"b4\" : \"before\",\n",
    "    \"b4n\" : \"bye for now\",\n",
    "    \"b@u\" : \"back at you\",\n",
    "    \"bae\" : \"before anyone else\",\n",
    "    \"bak\" : \"back at keyboard\",\n",
    "    \"bbbg\" : \"bye bye be good\",\n",
    "    \"bbc\" : \"british broadcasting corporation\",\n",
    "    \"bbias\" : \"be back in a second\",\n",
    "    \"bbl\" : \"be back later\",\n",
    "    \"bbs\" : \"be back soon\",\n",
    "    \"be4\" : \"before\",\n",
    "    \"bfn\" : \"bye for now\",\n",
    "    \"blvd\" : \"boulevard\",\n",
    "    \"bout\" : \"about\",\n",
    "    \"brb\" : \"be right back\",\n",
    "    \"bros\" : \"brothers\",\n",
    "    \"brt\" : \"be right there\",\n",
    "    \"bsaaw\" : \"big smile and a wink\",\n",
    "    \"btw\" : \"by the way\",\n",
    "    \"bwl\" : \"bursting with laughter\",\n",
    "    \"c/o\" : \"care of\",\n",
    "    \"cet\" : \"central european time\",\n",
    "    \"cf\" : \"compare\",\n",
    "    \"cia\" : \"central intelligence agency\",\n",
    "    \"csl\" : \"can not stop laughing\",\n",
    "    \"cu\" : \"see you\",\n",
    "    \"cul8r\" : \"see you later\",\n",
    "    \"cv\" : \"curriculum vitae\",\n",
    "    \"cwot\" : \"complete waste of time\",\n",
    "    \"cya\" : \"see you\",\n",
    "    \"cyt\" : \"see you tomorrow\",\n",
    "    \"dae\" : \"does anyone else\",\n",
    "    \"dbmib\" : \"do not bother me i am busy\",\n",
    "    \"diy\" : \"do it yourself\",\n",
    "    \"dm\" : \"direct message\",\n",
    "    \"dwh\" : \"during work hours\",\n",
    "    \"e123\" : \"easy as one two three\",\n",
    "    \"eet\" : \"eastern european time\",\n",
    "    \"eg\" : \"example\",\n",
    "    \"embm\" : \"early morning business meeting\",\n",
    "    \"encl\" : \"enclosed\",\n",
    "    \"encl.\" : \"enclosed\",\n",
    "    \"etc\" : \"and so on\",\n",
    "    \"faq\" : \"frequently asked questions\",\n",
    "    \"fawc\" : \"for anyone who cares\",\n",
    "    \"fb\" : \"facebook\",\n",
    "    \"fc\" : \"fingers crossed\",\n",
    "    \"fig\" : \"figure\",\n",
    "    \"fimh\" : \"forever in my heart\", \n",
    "    \"ft.\" : \"feet\",\n",
    "    \"ft\" : \"featuring\",\n",
    "    \"ftl\" : \"for the loss\",\n",
    "    \"ftw\" : \"for the win\",\n",
    "    \"fwiw\" : \"for what it is worth\",\n",
    "    \"fyi\" : \"for your information\",\n",
    "    \"g9\" : \"genius\",\n",
    "    \"gahoy\" : \"get a hold of yourself\",\n",
    "    \"gal\" : \"get a life\",\n",
    "    \"gcse\" : \"general certificate of secondary education\",\n",
    "    \"gfn\" : \"gone for now\",\n",
    "    \"gg\" : \"good game\",\n",
    "    \"gl\" : \"good luck\",\n",
    "    \"glhf\" : \"good luck have fun\",\n",
    "    \"gmt\" : \"greenwich mean time\",\n",
    "    \"gmta\" : \"great minds think alike\",\n",
    "    \"gn\" : \"good night\",\n",
    "    \"g.o.a.t\" : \"greatest of all time\",\n",
    "    \"goat\" : \"greatest of all time\",\n",
    "    \"goi\" : \"get over it\",\n",
    "    \"gps\" : \"global positioning system\",\n",
    "    \"gr8\" : \"great\",\n",
    "    \"gratz\" : \"congratulations\",\n",
    "    \"gyal\" : \"girl\",\n",
    "    \"h&c\" : \"hot and cold\",\n",
    "    \"hp\" : \"horsepower\",\n",
    "    \"hr\" : \"hour\",\n",
    "    \"hrh\" : \"his royal highness\",\n",
    "    \"ht\" : \"height\",\n",
    "    \"ibrb\" : \"i will be right back\",\n",
    "    \"ic\" : \"i see\",\n",
    "    \"icq\" : \"i seek you\",\n",
    "    \"icymi\" : \"in case you missed it\",\n",
    "    \"idc\" : \"i do not care\",\n",
    "    \"idgadf\" : \"i do not give a damn fuck\",\n",
    "    \"idgaf\" : \"i do not give a fuck\",\n",
    "    \"idk\" : \"i do not know\",\n",
    "    \"ie\" : \"that is\",\n",
    "    \"i.e\" : \"that is\",\n",
    "    \"ifyp\" : \"i feel your pain\",\n",
    "    \"IG\" : \"instagram\",\n",
    "    \"iirc\" : \"if i remember correctly\",\n",
    "    \"ilu\" : \"i love you\",\n",
    "    \"ily\" : \"i love you\",\n",
    "    \"imho\" : \"in my humble opinion\",\n",
    "    \"imo\" : \"in my opinion\",\n",
    "    \"imu\" : \"i miss you\",\n",
    "    \"iow\" : \"in other words\",\n",
    "    \"irl\" : \"in real life\",\n",
    "    \"j4f\" : \"just for fun\",\n",
    "    \"jic\" : \"just in case\",\n",
    "    \"jk\" : \"just kidding\",\n",
    "    \"jsyk\" : \"just so you know\",\n",
    "    \"l8r\" : \"later\",\n",
    "    \"lb\" : \"pound\",\n",
    "    \"lbs\" : \"pounds\",\n",
    "    \"ldr\" : \"long distance relationship\",\n",
    "    \"lmao\" : \"laugh my ass off\",\n",
    "    \"lmfao\" : \"laugh my fucking ass off\",\n",
    "    \"lol\" : \"laughing out loud\",\n",
    "    \"ltd\" : \"limited\",\n",
    "    \"ltns\" : \"long time no see\",\n",
    "    \"m8\" : \"mate\",\n",
    "    \"mf\" : \"motherfucker\",\n",
    "    \"mfs\" : \"motherfuckers\",\n",
    "    \"mfw\" : \"my face when\",\n",
    "    \"mofo\" : \"motherfucker\",\n",
    "    \"mph\" : \"miles per hour\",\n",
    "    \"mr\" : \"mister\",\n",
    "    \"mrw\" : \"my reaction when\",\n",
    "    \"ms\" : \"miss\",\n",
    "    \"mte\" : \"my thoughts exactly\",\n",
    "    \"nagi\" : \"not a good idea\",\n",
    "    \"nbc\" : \"national broadcasting company\",\n",
    "    \"nbd\" : \"not big deal\",\n",
    "    \"nfs\" : \"not for sale\",\n",
    "    \"ngl\" : \"not going to lie\",\n",
    "    \"nhs\" : \"national health service\",\n",
    "    \"nrn\" : \"no reply necessary\",\n",
    "    \"nsfl\" : \"not safe for life\",\n",
    "    \"nsfw\" : \"not safe for work\",\n",
    "    \"nth\" : \"nice to have\",\n",
    "    \"nvr\" : \"never\",\n",
    "    \"nyc\" : \"new york city\",\n",
    "    \"oc\" : \"original content\",\n",
    "    \"og\" : \"original\",\n",
    "    \"ohp\" : \"overhead projector\",\n",
    "    \"oic\" : \"oh i see\",\n",
    "    \"omdb\" : \"over my dead body\",\n",
    "    \"omg\" : \"oh my god\",\n",
    "    \"omw\" : \"on my way\",\n",
    "    \"p.a\" : \"per annum\",\n",
    "    \"p.m\" : \"after midday\",\n",
    "    \"pm\" : \"prime minister\",\n",
    "    \"poc\" : \"people of color\",\n",
    "    \"pov\" : \"point of view\",\n",
    "    \"pp\" : \"pages\",\n",
    "    \"ppl\" : \"people\",\n",
    "    \"prw\" : \"parents are watching\",\n",
    "    \"ps\" : \"postscript\",\n",
    "    \"pt\" : \"point\",\n",
    "    \"ptb\" : \"please text back\",\n",
    "    \"pto\" : \"please turn over\",\n",
    "    \"qpsa\" : \"what happens\", #\"que pasa\",\n",
    "    \"ratchet\" : \"rude\",\n",
    "    \"rbtl\" : \"read between the lines\",\n",
    "    \"rlrt\" : \"real life retweet\", \n",
    "    \"rofl\" : \"rolling on the floor laughing\",\n",
    "    \"roflol\" : \"rolling on the floor laughing out loud\",\n",
    "    \"rotflmao\" : \"rolling on the floor laughing my ass off\",\n",
    "    \"rt\" : \"retweet\",\n",
    "    \"ruok\" : \"are you ok\",\n",
    "    \"sfw\" : \"safe for work\",\n",
    "    \"sk8\" : \"skate\",\n",
    "    \"smh\" : \"shake my head\",\n",
    "    \"sq\" : \"square\",\n",
    "    \"srsly\" : \"seriously\", \n",
    "    \"ssdd\" : \"same stuff different day\",\n",
    "    \"tbh\" : \"to be honest\",\n",
    "    \"tbs\" : \"tablespooful\",\n",
    "    \"tbsp\" : \"tablespooful\",\n",
    "    \"tfw\" : \"that feeling when\",\n",
    "    \"thks\" : \"thank you\",\n",
    "    \"tho\" : \"though\",\n",
    "    \"thx\" : \"thank you\",\n",
    "    \"tia\" : \"thanks in advance\",\n",
    "    \"til\" : \"today i learned\",\n",
    "    \"tl;dr\" : \"too long i did not read\",\n",
    "    \"tldr\" : \"too long i did not read\",\n",
    "    \"tmb\" : \"tweet me back\",\n",
    "    \"tntl\" : \"trying not to laugh\",\n",
    "    \"ttyl\" : \"talk to you later\",\n",
    "    \"u\" : \"you\",\n",
    "    \"u2\" : \"you too\",\n",
    "    \"u4e\" : \"yours for ever\",\n",
    "    \"utc\" : \"coordinated universal time\",\n",
    "    \"w/\" : \"with\",\n",
    "    \"w/o\" : \"without\",\n",
    "    \"w8\" : \"wait\",\n",
    "    \"wassup\" : \"what is up\",\n",
    "    \"wb\" : \"welcome back\",\n",
    "    \"wtf\" : \"what the fuck\",\n",
    "    \"wtg\" : \"way to go\",\n",
    "    \"wtpa\" : \"where the party at\",\n",
    "    \"wuf\" : \"where are you from\",\n",
    "    \"wuzup\" : \"what is up\",\n",
    "    \"wywh\" : \"wish you were here\",\n",
    "    \"yd\" : \"yard\",\n",
    "    \"ygtr\" : \"you got that right\",\n",
    "    \"ynk\" : \"you never know\",\n",
    "    \"zzz\" : \"sleeping bored and tired\"\n",
    "}"
   ]
  },
  {
   "cell_type": "markdown",
   "id": "subsequent-going",
   "metadata": {
    "papermill": {
     "duration": 0.045369,
     "end_time": "2021-05-05T04:22:26.345619",
     "exception": false,
     "start_time": "2021-05-05T04:22:26.300250",
     "status": "completed"
    },
    "tags": []
   },
   "source": [
    "Functions to do the following:\n",
    "* Remove all URLs, replace by URL\n",
    "* Remove HTML beacon\n",
    "* Remove non printable characters\n",
    "* Change an abbreviation by its true meaning\n",
    "* Replace all abbreviations\n",
    "* Remove @ and mention, replace by USER\n",
    "* Remove numbers, replace it by NUMBER\n",
    "* Remove all emojis, replace by EMOJI\n",
    "* Replace some others smileys with SADFACE\n",
    "* Replace some smileys with SMILE\n",
    "* Replace <3 with HEART\n",
    "* Factorize elongated words, add ELONG\n",
    "* Factorize repeated punctuation, add REPEAT\n",
    "* Remove all punctuations\n",
    "* Remove punctuations\n",
    "* Remove all english stopwords"
   ]
  },
  {
   "cell_type": "code",
   "execution_count": 27,
   "id": "trying-plymouth",
   "metadata": {
    "execution": {
     "iopub.execute_input": "2021-05-05T04:22:26.454362Z",
     "iopub.status.busy": "2021-05-05T04:22:26.453787Z",
     "iopub.status.idle": "2021-05-05T04:22:26.466089Z",
     "shell.execute_reply": "2021-05-05T04:22:26.465599Z"
    },
    "papermill": {
     "duration": 0.073991,
     "end_time": "2021-05-05T04:22:26.466205",
     "exception": false,
     "start_time": "2021-05-05T04:22:26.392214",
     "status": "completed"
    },
    "tags": []
   },
   "outputs": [],
   "source": [
    "# Remove all URLs, replace by URL\n",
    "def remove_URL(text):\n",
    "    url = re.compile(r'https?://\\S+|www\\.\\S+')\n",
    "    return url.sub(r'URL',text)\n",
    "\n",
    "# Remove HTML beacon\n",
    "def remove_HTML(text):\n",
    "    html=re.compile(r'<.*?>')\n",
    "    return html.sub(r'',text)\n",
    "\n",
    "# Remove non printable characters\n",
    "def remove_not_ASCII(text):\n",
    "    text = ''.join([word for word in text if word in string.printable])\n",
    "    return text\n",
    "\n",
    "# Change an abbreviation by its true meaning\n",
    "def word_abbrev(word):\n",
    "    return abbreviations[word.lower()] if word.lower() in abbreviations.keys() else word\n",
    "\n",
    "# Replace all abbreviations\n",
    "def replace_abbrev(text):\n",
    "    string = \"\"\n",
    "    for word in text.split():\n",
    "        string += word_abbrev(word) + \" \"        \n",
    "    return string\n",
    "\n",
    "# Remove @ and mention, replace by USER\n",
    "def remove_mention(text):\n",
    "    at=re.compile(r'@\\S+')\n",
    "    return at.sub(r'USER',text)\n",
    "\n",
    "# Remove numbers, replace it by NUMBER\n",
    "def remove_number(text):\n",
    "    num = re.compile(r'[-+]?[.\\d]*[\\d]+[:,.\\d]*')\n",
    "    return num.sub(r'NUMBER', text)\n",
    "\n",
    "# Remove all emojis, replace by EMOJI\n",
    "def remove_emoji(text):\n",
    "    emoji_pattern = re.compile(\"[\"\n",
    "                           u\"\\U0001F600-\\U0001F64F\"  # emoticons\n",
    "                           u\"\\U0001F300-\\U0001F5FF\"  # symbols & pictographs\n",
    "                           u\"\\U0001F680-\\U0001F6FF\"  # transport & map symbols\n",
    "                           u\"\\U0001F1E0-\\U0001F1FF\"  # flags (iOS)\n",
    "                           u\"\\U00002702-\\U000027B0\"\n",
    "                           u\"\\U000024C2-\\U0001F251\"\n",
    "                           \"]+\", flags=re.UNICODE)\n",
    "    return emoji_pattern.sub(r'EMOJI', text)\n",
    "\n",
    "# Replace some others smileys with SADFACE\n",
    "def transcription_sad(text):\n",
    "    eyes = \"[8:=;]\"\n",
    "    nose = \"['`\\-]\"\n",
    "    smiley = re.compile(r'[8:=;][\\'\\-]?[(\\\\/]')\n",
    "    return smiley.sub(r'SADFACE', text)\n",
    "\n",
    "# Replace some smileys with SMILE\n",
    "def transcription_smile(text):\n",
    "    eyes = \"[8:=;]\"\n",
    "    nose = \"['`\\-]\"\n",
    "    smiley = re.compile(r'[8:=;][\\'\\-]?[)dDp]')\n",
    "    #smiley = re.compile(r'#{eyes}#{nose}[)d]+|[)d]+#{nose}#{eyes}/i')\n",
    "    return smiley.sub(r'SMILE', text)\n",
    "\n",
    "# Replace <3 with HEART\n",
    "def transcription_heart(text):\n",
    "    heart = re.compile(r'<3')\n",
    "    return heart.sub(r'HEART', text)\n",
    "\n",
    "# Factorize elongated words, add ELONG\n",
    "def remove_elongated_words(text):\n",
    "    rep = re.compile(r'\\b(\\S*?)([a-z])\\2{2,}\\b')\n",
    "    return rep.sub(r'\\1\\2 ELONG', text)\n",
    "\n",
    "# Factorize repeated punctuation, add REPEAT\n",
    "def remove_repeat_punct(text):\n",
    "    rep = re.compile(r'([!?.]){2,}')\n",
    "    return rep.sub(r'\\1 REPEAT', text)\n",
    "\n",
    "\n",
    "# Remove all punctuations\n",
    "def remove_all_punct(text):\n",
    "    table = str.maketrans('','',string.punctuation)\n",
    "    return text.translate(table)\n",
    "\n",
    "# Remove punctuations\n",
    "def remove_punct(text):\n",
    "    punctuations = '@#!?+&*[]-%.:/();$=><|{}^' + \"'`\" \n",
    "    for p in punctuations:\n",
    "        text = text.replace(p, f' {p} ')\n",
    "\n",
    "    text = text.replace('...', ' ... ')\n",
    "    if '...' not in text:\n",
    "        text = text.replace('..', ' ... ')   \n",
    "    return text\n",
    "\n",
    "# Remove all english stopwords\n",
    "stopwords = nltk.corpus.stopwords.words('english')\n",
    "def remove_stopwords(text):\n",
    "    text = ' '.join([word for word in text.split() if word not in (stopwords)])\n",
    "    return text"
   ]
  },
  {
   "cell_type": "code",
   "execution_count": 28,
   "id": "dried-doubt",
   "metadata": {
    "execution": {
     "iopub.execute_input": "2021-05-05T04:22:26.566480Z",
     "iopub.status.busy": "2021-05-05T04:22:26.565717Z",
     "iopub.status.idle": "2021-05-05T04:22:26.568498Z",
     "shell.execute_reply": "2021-05-05T04:22:26.568071Z"
    },
    "papermill": {
     "duration": 0.056198,
     "end_time": "2021-05-05T04:22:26.568615",
     "exception": false,
     "start_time": "2021-05-05T04:22:26.512417",
     "status": "completed"
    },
    "tags": []
   },
   "outputs": [],
   "source": [
    "def clean_tweet(text):\n",
    "    \n",
    "    # Remove non text\n",
    "    text = remove_URL(text)\n",
    "    text = remove_HTML(text)\n",
    "    text = remove_not_ASCII(text)\n",
    "    \n",
    "    # Lower text, replace abbreviations\n",
    "    text = text.lower()\n",
    "    text = replace_abbrev(text)  \n",
    "    text = remove_mention(text)\n",
    "    text = remove_number(text)\n",
    "    \n",
    "    # Remove emojis / smileys\n",
    "    text = remove_emoji(text)\n",
    "    text = transcription_sad(text)\n",
    "    text = transcription_smile(text)\n",
    "    text = transcription_heart(text)\n",
    "    \n",
    "    # Remove repeated puntuations / words\n",
    "    text = remove_elongated_words(text)\n",
    "    text = remove_repeat_punct(text)\n",
    "\n",
    "    text = remove_all_punct(text)\n",
    "    text = remove_punct(text)\n",
    "    text = remove_stopwords(text)\n",
    "\n",
    "    return text"
   ]
  },
  {
   "cell_type": "markdown",
   "id": "chubby-legislation",
   "metadata": {
    "papermill": {
     "duration": 0.04522,
     "end_time": "2021-05-05T04:22:26.661002",
     "exception": false,
     "start_time": "2021-05-05T04:22:26.615782",
     "status": "completed"
    },
    "tags": []
   },
   "source": [
    "Clean text and add a new feature"
   ]
  },
  {
   "cell_type": "code",
   "execution_count": 29,
   "id": "comprehensive-fitting",
   "metadata": {
    "execution": {
     "iopub.execute_input": "2021-05-05T04:22:26.789386Z",
     "iopub.status.busy": "2021-05-05T04:22:26.774034Z",
     "iopub.status.idle": "2021-05-05T04:22:28.396923Z",
     "shell.execute_reply": "2021-05-05T04:22:28.396131Z"
    },
    "papermill": {
     "duration": 1.690682,
     "end_time": "2021-05-05T04:22:28.397054",
     "exception": false,
     "start_time": "2021-05-05T04:22:26.706372",
     "status": "completed"
    },
    "tags": []
   },
   "outputs": [
    {
     "ename": "NameError",
     "evalue": "name 'tokenize' is not defined",
     "output_type": "error",
     "traceback": [
      "\u001b[0;31m---------------------------------------------------------------------------\u001b[0m",
      "\u001b[0;31mNameError\u001b[0m                                 Traceback (most recent call last)",
      "\u001b[0;32m<ipython-input-29-2e9e6aa0a22c>\u001b[0m in \u001b[0;36m<module>\u001b[0;34m\u001b[0m\n\u001b[1;32m      3\u001b[0m \u001b[0mtest_data\u001b[0m\u001b[0;34m[\u001b[0m\u001b[0;34m\"clean_text\"\u001b[0m\u001b[0;34m]\u001b[0m \u001b[0;34m=\u001b[0m \u001b[0mtest_data\u001b[0m\u001b[0;34m[\u001b[0m\u001b[0;34m\"text\"\u001b[0m\u001b[0;34m]\u001b[0m\u001b[0;34m.\u001b[0m\u001b[0mapply\u001b[0m\u001b[0;34m(\u001b[0m\u001b[0mclean_tweet\u001b[0m\u001b[0;34m)\u001b[0m\u001b[0;34m\u001b[0m\u001b[0;34m\u001b[0m\u001b[0m\n\u001b[1;32m      4\u001b[0m \u001b[0;34m\u001b[0m\u001b[0m\n\u001b[0;32m----> 5\u001b[0;31m \u001b[0mtrain_data\u001b[0m\u001b[0;34m[\u001b[0m\u001b[0;34m\"clean_tokens\"\u001b[0m\u001b[0;34m]\u001b[0m \u001b[0;34m=\u001b[0m \u001b[0mtrain_data\u001b[0m\u001b[0;34m[\u001b[0m\u001b[0;34m\"clean_text\"\u001b[0m\u001b[0;34m]\u001b[0m\u001b[0;34m.\u001b[0m\u001b[0mapply\u001b[0m\u001b[0;34m(\u001b[0m\u001b[0;32mlambda\u001b[0m \u001b[0mx\u001b[0m\u001b[0;34m:\u001b[0m \u001b[0mtokenize\u001b[0m\u001b[0;34m(\u001b[0m\u001b[0mx\u001b[0m\u001b[0;34m)\u001b[0m\u001b[0;34m)\u001b[0m\u001b[0;34m\u001b[0m\u001b[0;34m\u001b[0m\u001b[0m\n\u001b[0m\u001b[1;32m      6\u001b[0m \u001b[0mtest_data\u001b[0m\u001b[0;34m[\u001b[0m\u001b[0;34m\"clean_tokens\"\u001b[0m\u001b[0;34m]\u001b[0m \u001b[0;34m=\u001b[0m \u001b[0mtest_data\u001b[0m\u001b[0;34m[\u001b[0m\u001b[0;34m\"clean_text\"\u001b[0m\u001b[0;34m]\u001b[0m\u001b[0;34m.\u001b[0m\u001b[0mapply\u001b[0m\u001b[0;34m(\u001b[0m\u001b[0;32mlambda\u001b[0m \u001b[0mx\u001b[0m\u001b[0;34m:\u001b[0m \u001b[0mtokenize\u001b[0m\u001b[0;34m(\u001b[0m\u001b[0mx\u001b[0m\u001b[0;34m)\u001b[0m\u001b[0;34m)\u001b[0m\u001b[0;34m\u001b[0m\u001b[0;34m\u001b[0m\u001b[0m\n",
      "\u001b[0;32m/opt/conda/lib/python3.7/site-packages/pandas/core/series.py\u001b[0m in \u001b[0;36mapply\u001b[0;34m(self, func, convert_dtype, args, **kwds)\u001b[0m\n\u001b[1;32m   4211\u001b[0m             \u001b[0;32melse\u001b[0m\u001b[0;34m:\u001b[0m\u001b[0;34m\u001b[0m\u001b[0;34m\u001b[0m\u001b[0m\n\u001b[1;32m   4212\u001b[0m                 \u001b[0mvalues\u001b[0m \u001b[0;34m=\u001b[0m \u001b[0mself\u001b[0m\u001b[0;34m.\u001b[0m\u001b[0mastype\u001b[0m\u001b[0;34m(\u001b[0m\u001b[0mobject\u001b[0m\u001b[0;34m)\u001b[0m\u001b[0;34m.\u001b[0m\u001b[0m_values\u001b[0m\u001b[0;34m\u001b[0m\u001b[0;34m\u001b[0m\u001b[0m\n\u001b[0;32m-> 4213\u001b[0;31m                 \u001b[0mmapped\u001b[0m \u001b[0;34m=\u001b[0m \u001b[0mlib\u001b[0m\u001b[0;34m.\u001b[0m\u001b[0mmap_infer\u001b[0m\u001b[0;34m(\u001b[0m\u001b[0mvalues\u001b[0m\u001b[0;34m,\u001b[0m \u001b[0mf\u001b[0m\u001b[0;34m,\u001b[0m \u001b[0mconvert\u001b[0m\u001b[0;34m=\u001b[0m\u001b[0mconvert_dtype\u001b[0m\u001b[0;34m)\u001b[0m\u001b[0;34m\u001b[0m\u001b[0;34m\u001b[0m\u001b[0m\n\u001b[0m\u001b[1;32m   4214\u001b[0m \u001b[0;34m\u001b[0m\u001b[0m\n\u001b[1;32m   4215\u001b[0m         \u001b[0;32mif\u001b[0m \u001b[0mlen\u001b[0m\u001b[0;34m(\u001b[0m\u001b[0mmapped\u001b[0m\u001b[0;34m)\u001b[0m \u001b[0;32mand\u001b[0m \u001b[0misinstance\u001b[0m\u001b[0;34m(\u001b[0m\u001b[0mmapped\u001b[0m\u001b[0;34m[\u001b[0m\u001b[0;36m0\u001b[0m\u001b[0;34m]\u001b[0m\u001b[0;34m,\u001b[0m \u001b[0mSeries\u001b[0m\u001b[0;34m)\u001b[0m\u001b[0;34m:\u001b[0m\u001b[0;34m\u001b[0m\u001b[0;34m\u001b[0m\u001b[0m\n",
      "\u001b[0;32mpandas/_libs/lib.pyx\u001b[0m in \u001b[0;36mpandas._libs.lib.map_infer\u001b[0;34m()\u001b[0m\n",
      "\u001b[0;32m<ipython-input-29-2e9e6aa0a22c>\u001b[0m in \u001b[0;36m<lambda>\u001b[0;34m(x)\u001b[0m\n\u001b[1;32m      3\u001b[0m \u001b[0mtest_data\u001b[0m\u001b[0;34m[\u001b[0m\u001b[0;34m\"clean_text\"\u001b[0m\u001b[0;34m]\u001b[0m \u001b[0;34m=\u001b[0m \u001b[0mtest_data\u001b[0m\u001b[0;34m[\u001b[0m\u001b[0;34m\"text\"\u001b[0m\u001b[0;34m]\u001b[0m\u001b[0;34m.\u001b[0m\u001b[0mapply\u001b[0m\u001b[0;34m(\u001b[0m\u001b[0mclean_tweet\u001b[0m\u001b[0;34m)\u001b[0m\u001b[0;34m\u001b[0m\u001b[0;34m\u001b[0m\u001b[0m\n\u001b[1;32m      4\u001b[0m \u001b[0;34m\u001b[0m\u001b[0m\n\u001b[0;32m----> 5\u001b[0;31m \u001b[0mtrain_data\u001b[0m\u001b[0;34m[\u001b[0m\u001b[0;34m\"clean_tokens\"\u001b[0m\u001b[0;34m]\u001b[0m \u001b[0;34m=\u001b[0m \u001b[0mtrain_data\u001b[0m\u001b[0;34m[\u001b[0m\u001b[0;34m\"clean_text\"\u001b[0m\u001b[0;34m]\u001b[0m\u001b[0;34m.\u001b[0m\u001b[0mapply\u001b[0m\u001b[0;34m(\u001b[0m\u001b[0;32mlambda\u001b[0m \u001b[0mx\u001b[0m\u001b[0;34m:\u001b[0m \u001b[0mtokenize\u001b[0m\u001b[0;34m(\u001b[0m\u001b[0mx\u001b[0m\u001b[0;34m)\u001b[0m\u001b[0;34m)\u001b[0m\u001b[0;34m\u001b[0m\u001b[0;34m\u001b[0m\u001b[0m\n\u001b[0m\u001b[1;32m      6\u001b[0m \u001b[0mtest_data\u001b[0m\u001b[0;34m[\u001b[0m\u001b[0;34m\"clean_tokens\"\u001b[0m\u001b[0;34m]\u001b[0m \u001b[0;34m=\u001b[0m \u001b[0mtest_data\u001b[0m\u001b[0;34m[\u001b[0m\u001b[0;34m\"clean_text\"\u001b[0m\u001b[0;34m]\u001b[0m\u001b[0;34m.\u001b[0m\u001b[0mapply\u001b[0m\u001b[0;34m(\u001b[0m\u001b[0;32mlambda\u001b[0m \u001b[0mx\u001b[0m\u001b[0;34m:\u001b[0m \u001b[0mtokenize\u001b[0m\u001b[0;34m(\u001b[0m\u001b[0mx\u001b[0m\u001b[0;34m)\u001b[0m\u001b[0;34m)\u001b[0m\u001b[0;34m\u001b[0m\u001b[0;34m\u001b[0m\u001b[0m\n",
      "\u001b[0;31mNameError\u001b[0m: name 'tokenize' is not defined"
     ]
    }
   ],
   "source": [
    "# Clean text and add a new feature\n",
    "train_data[\"clean_text\"] = train_data[\"text\"].apply(clean_tweet)\n",
    "test_data[\"clean_text\"] = test_data[\"text\"].apply(clean_tweet)\n",
    "\n",
    "train_data[\"clean_tokens\"] = train_data[\"clean_text\"].apply(lambda x: tokenize(x))\n",
    "test_data[\"clean_tokens\"] = test_data[\"clean_text\"].apply(lambda x: tokenize(x))"
   ]
  },
  {
   "cell_type": "code",
   "execution_count": 30,
   "id": "superb-brass",
   "metadata": {
    "execution": {
     "iopub.execute_input": "2021-05-05T04:22:28.495468Z",
     "iopub.status.busy": "2021-05-05T04:22:28.494594Z",
     "iopub.status.idle": "2021-05-05T04:22:28.504290Z",
     "shell.execute_reply": "2021-05-05T04:22:28.503848Z"
    },
    "papermill": {
     "duration": 0.061053,
     "end_time": "2021-05-05T04:22:28.504402",
     "exception": false,
     "start_time": "2021-05-05T04:22:28.443349",
     "status": "completed"
    },
    "tags": []
   },
   "outputs": [
    {
     "data": {
      "text/html": [
       "<div>\n",
       "<style scoped>\n",
       "    .dataframe tbody tr th:only-of-type {\n",
       "        vertical-align: middle;\n",
       "    }\n",
       "\n",
       "    .dataframe tbody tr th {\n",
       "        vertical-align: top;\n",
       "    }\n",
       "\n",
       "    .dataframe thead th {\n",
       "        text-align: right;\n",
       "    }\n",
       "</style>\n",
       "<table border=\"1\" class=\"dataframe\">\n",
       "  <thead>\n",
       "    <tr style=\"text-align: right;\">\n",
       "      <th></th>\n",
       "      <th>clean_text</th>\n",
       "      <th>text</th>\n",
       "    </tr>\n",
       "  </thead>\n",
       "  <tbody>\n",
       "    <tr>\n",
       "      <th>0</th>\n",
       "      <td>deeds reason earthquake may allah forgive us</td>\n",
       "      <td>Our Deeds are the Reason of this #earthquake M...</td>\n",
       "    </tr>\n",
       "    <tr>\n",
       "      <th>1</th>\n",
       "      <td>forest fire near la ronge sask canada</td>\n",
       "      <td>Forest fire near La Ronge Sask. Canada</td>\n",
       "    </tr>\n",
       "    <tr>\n",
       "      <th>2</th>\n",
       "      <td>residents asked shelter place notified officer...</td>\n",
       "      <td>All residents asked to 'shelter in place' are ...</td>\n",
       "    </tr>\n",
       "    <tr>\n",
       "      <th>3</th>\n",
       "      <td>NUMBER people receive wildfires evacuation ord...</td>\n",
       "      <td>13,000 people receive #wildfires evacuation or...</td>\n",
       "    </tr>\n",
       "    <tr>\n",
       "      <th>4</th>\n",
       "      <td>got sent photo ruby alaska smoke wildfires pou...</td>\n",
       "      <td>Just got sent this photo from Ruby #Alaska as ...</td>\n",
       "    </tr>\n",
       "    <tr>\n",
       "      <th>5</th>\n",
       "      <td>rockyfire update california hwy NUMBER closed ...</td>\n",
       "      <td>#RockyFire Update =&gt; California Hwy. 20 closed...</td>\n",
       "    </tr>\n",
       "    <tr>\n",
       "      <th>6</th>\n",
       "      <td>flood disaster heavy rain causes flash floodin...</td>\n",
       "      <td>#flood #disaster Heavy rain causes flash flood...</td>\n",
       "    </tr>\n",
       "    <tr>\n",
       "      <th>7</th>\n",
       "      <td>im top hill see fire woods REPEAT</td>\n",
       "      <td>I'm on top of the hill and I can see a fire in...</td>\n",
       "    </tr>\n",
       "    <tr>\n",
       "      <th>8</th>\n",
       "      <td>theres emergency evacuation happening building...</td>\n",
       "      <td>There's an emergency evacuation happening now ...</td>\n",
       "    </tr>\n",
       "    <tr>\n",
       "      <th>9</th>\n",
       "      <td>im afraid tornado coming area REPEAT</td>\n",
       "      <td>I'm afraid that the tornado is coming to our a...</td>\n",
       "    </tr>\n",
       "  </tbody>\n",
       "</table>\n",
       "</div>"
      ],
      "text/plain": [
       "                                          clean_text  \\\n",
       "0       deeds reason earthquake may allah forgive us   \n",
       "1              forest fire near la ronge sask canada   \n",
       "2  residents asked shelter place notified officer...   \n",
       "3  NUMBER people receive wildfires evacuation ord...   \n",
       "4  got sent photo ruby alaska smoke wildfires pou...   \n",
       "5  rockyfire update california hwy NUMBER closed ...   \n",
       "6  flood disaster heavy rain causes flash floodin...   \n",
       "7                  im top hill see fire woods REPEAT   \n",
       "8  theres emergency evacuation happening building...   \n",
       "9               im afraid tornado coming area REPEAT   \n",
       "\n",
       "                                                text  \n",
       "0  Our Deeds are the Reason of this #earthquake M...  \n",
       "1             Forest fire near La Ronge Sask. Canada  \n",
       "2  All residents asked to 'shelter in place' are ...  \n",
       "3  13,000 people receive #wildfires evacuation or...  \n",
       "4  Just got sent this photo from Ruby #Alaska as ...  \n",
       "5  #RockyFire Update => California Hwy. 20 closed...  \n",
       "6  #flood #disaster Heavy rain causes flash flood...  \n",
       "7  I'm on top of the hill and I can see a fire in...  \n",
       "8  There's an emergency evacuation happening now ...  \n",
       "9  I'm afraid that the tornado is coming to our a...  "
      ]
     },
     "execution_count": 30,
     "metadata": {},
     "output_type": "execute_result"
    }
   ],
   "source": [
    "#print clean text and the original text\n",
    "train_data[['clean_text','text']].head(10)"
   ]
  },
  {
   "cell_type": "code",
   "execution_count": 31,
   "id": "instant-halloween",
   "metadata": {
    "execution": {
     "iopub.execute_input": "2021-05-05T04:22:28.611085Z",
     "iopub.status.busy": "2021-05-05T04:22:28.610317Z",
     "iopub.status.idle": "2021-05-05T04:22:28.614137Z",
     "shell.execute_reply": "2021-05-05T04:22:28.613607Z"
    },
    "papermill": {
     "duration": 0.062637,
     "end_time": "2021-05-05T04:22:28.614261",
     "exception": false,
     "start_time": "2021-05-05T04:22:28.551624",
     "status": "completed"
    },
    "tags": []
   },
   "outputs": [
    {
     "data": {
      "text/html": [
       "<div>\n",
       "<style scoped>\n",
       "    .dataframe tbody tr th:only-of-type {\n",
       "        vertical-align: middle;\n",
       "    }\n",
       "\n",
       "    .dataframe tbody tr th {\n",
       "        vertical-align: top;\n",
       "    }\n",
       "\n",
       "    .dataframe thead th {\n",
       "        text-align: right;\n",
       "    }\n",
       "</style>\n",
       "<table border=\"1\" class=\"dataframe\">\n",
       "  <thead>\n",
       "    <tr style=\"text-align: right;\">\n",
       "      <th></th>\n",
       "      <th>id</th>\n",
       "      <th>keyword</th>\n",
       "      <th>location</th>\n",
       "      <th>text</th>\n",
       "      <th>target</th>\n",
       "      <th>each_tweet_len</th>\n",
       "      <th>num_words</th>\n",
       "      <th>clean_text</th>\n",
       "    </tr>\n",
       "  </thead>\n",
       "  <tbody>\n",
       "    <tr>\n",
       "      <th>0</th>\n",
       "      <td>1</td>\n",
       "      <td>NaN</td>\n",
       "      <td>NaN</td>\n",
       "      <td>Our Deeds are the Reason of this #earthquake M...</td>\n",
       "      <td>1</td>\n",
       "      <td>69</td>\n",
       "      <td>13</td>\n",
       "      <td>deeds reason earthquake may allah forgive us</td>\n",
       "    </tr>\n",
       "    <tr>\n",
       "      <th>1</th>\n",
       "      <td>4</td>\n",
       "      <td>NaN</td>\n",
       "      <td>NaN</td>\n",
       "      <td>Forest fire near La Ronge Sask. Canada</td>\n",
       "      <td>1</td>\n",
       "      <td>38</td>\n",
       "      <td>7</td>\n",
       "      <td>forest fire near la ronge sask canada</td>\n",
       "    </tr>\n",
       "    <tr>\n",
       "      <th>2</th>\n",
       "      <td>5</td>\n",
       "      <td>NaN</td>\n",
       "      <td>NaN</td>\n",
       "      <td>All residents asked to 'shelter in place' are ...</td>\n",
       "      <td>1</td>\n",
       "      <td>133</td>\n",
       "      <td>22</td>\n",
       "      <td>residents asked shelter place notified officer...</td>\n",
       "    </tr>\n",
       "    <tr>\n",
       "      <th>3</th>\n",
       "      <td>6</td>\n",
       "      <td>NaN</td>\n",
       "      <td>NaN</td>\n",
       "      <td>13,000 people receive #wildfires evacuation or...</td>\n",
       "      <td>1</td>\n",
       "      <td>65</td>\n",
       "      <td>8</td>\n",
       "      <td>NUMBER people receive wildfires evacuation ord...</td>\n",
       "    </tr>\n",
       "    <tr>\n",
       "      <th>4</th>\n",
       "      <td>7</td>\n",
       "      <td>NaN</td>\n",
       "      <td>NaN</td>\n",
       "      <td>Just got sent this photo from Ruby #Alaska as ...</td>\n",
       "      <td>1</td>\n",
       "      <td>88</td>\n",
       "      <td>16</td>\n",
       "      <td>got sent photo ruby alaska smoke wildfires pou...</td>\n",
       "    </tr>\n",
       "  </tbody>\n",
       "</table>\n",
       "</div>"
      ],
      "text/plain": [
       "   id keyword location                                               text  \\\n",
       "0   1     NaN      NaN  Our Deeds are the Reason of this #earthquake M...   \n",
       "1   4     NaN      NaN             Forest fire near La Ronge Sask. Canada   \n",
       "2   5     NaN      NaN  All residents asked to 'shelter in place' are ...   \n",
       "3   6     NaN      NaN  13,000 people receive #wildfires evacuation or...   \n",
       "4   7     NaN      NaN  Just got sent this photo from Ruby #Alaska as ...   \n",
       "\n",
       "   target  each_tweet_len  num_words  \\\n",
       "0       1              69         13   \n",
       "1       1              38          7   \n",
       "2       1             133         22   \n",
       "3       1              65          8   \n",
       "4       1              88         16   \n",
       "\n",
       "                                          clean_text  \n",
       "0       deeds reason earthquake may allah forgive us  \n",
       "1              forest fire near la ronge sask canada  \n",
       "2  residents asked shelter place notified officer...  \n",
       "3  NUMBER people receive wildfires evacuation ord...  \n",
       "4  got sent photo ruby alaska smoke wildfires pou...  "
      ]
     },
     "execution_count": 31,
     "metadata": {},
     "output_type": "execute_result"
    }
   ],
   "source": [
    "#preview changes made for train_data\n",
    "train_data.head()"
   ]
  },
  {
   "cell_type": "markdown",
   "id": "invisible-paradise",
   "metadata": {
    "papermill": {
     "duration": 0.047398,
     "end_time": "2021-05-05T04:22:28.709271",
     "exception": false,
     "start_time": "2021-05-05T04:22:28.661873",
     "status": "completed"
    },
    "tags": []
   },
   "source": [
    "**Vectorization**"
   ]
  },
  {
   "cell_type": "markdown",
   "id": "special-robert",
   "metadata": {
    "papermill": {
     "duration": 0.04815,
     "end_time": "2021-05-05T04:22:28.805709",
     "exception": false,
     "start_time": "2021-05-05T04:22:28.757559",
     "status": "completed"
    },
    "tags": []
   },
   "source": [
    "Import libraries and set random seed. Use the seed() method to customize the start number of the random number generator."
   ]
  },
  {
   "cell_type": "code",
   "execution_count": 32,
   "id": "second-drilling",
   "metadata": {
    "execution": {
     "iopub.execute_input": "2021-05-05T04:22:28.908982Z",
     "iopub.status.busy": "2021-05-05T04:22:28.908348Z",
     "iopub.status.idle": "2021-05-05T04:22:29.285999Z",
     "shell.execute_reply": "2021-05-05T04:22:29.286893Z"
    },
    "papermill": {
     "duration": 0.433201,
     "end_time": "2021-05-05T04:22:29.287111",
     "exception": false,
     "start_time": "2021-05-05T04:22:28.853910",
     "status": "completed"
    },
    "tags": []
   },
   "outputs": [],
   "source": [
    "import numpy as np\n",
    "from sklearn.feature_extraction.text import TfidfVectorizer,CountVectorizer\n",
    "from sklearn.linear_model import LogisticRegression\n",
    "from sklearn.naive_bayes import MultinomialNB\n",
    "from sklearn.model_selection import train_test_split\n",
    "from sklearn.linear_model import LogisticRegression\n",
    "from sklearn.svm import SVC\n",
    "from sklearn.ensemble import RandomForestClassifier\n",
    "from sklearn.tree import DecisionTreeClassifier\n",
    "from sklearn.naive_bayes import MultinomialNB\n",
    "from sklearn.neighbors import KNeighborsClassifier\n",
    "from gensim.models import Word2Vec\n",
    "from xgboost import XGBClassifier\n",
    "from sklearn.metrics import accuracy_score,confusion_matrix,classification_report\n",
    "from sklearn.metrics import f1_score \n",
    "import random\n",
    "random.seed = 123"
   ]
  },
  {
   "cell_type": "markdown",
   "id": "impressive-assessment",
   "metadata": {
    "papermill": {
     "duration": 0.081905,
     "end_time": "2021-05-05T04:22:29.462521",
     "exception": false,
     "start_time": "2021-05-05T04:22:29.380616",
     "status": "completed"
    },
    "tags": []
   },
   "source": [
    "We used count vectorizer to convert a collection of text documents to a matrix of token counts. Also, we used Tfit vectorizer to convert a collection of raw documents to a matrix of TF-IDF features. We are vectorizing the train and test data. "
   ]
  },
  {
   "cell_type": "code",
   "execution_count": 33,
   "id": "infrared-dover",
   "metadata": {
    "execution": {
     "iopub.execute_input": "2021-05-05T04:22:29.645044Z",
     "iopub.status.busy": "2021-05-05T04:22:29.644230Z",
     "iopub.status.idle": "2021-05-05T04:22:30.508339Z",
     "shell.execute_reply": "2021-05-05T04:22:30.507711Z"
    },
    "papermill": {
     "duration": 0.969316,
     "end_time": "2021-05-05T04:22:30.508480",
     "exception": false,
     "start_time": "2021-05-05T04:22:29.539164",
     "status": "completed"
    },
    "tags": []
   },
   "outputs": [],
   "source": [
    "max_features=5000\n",
    "\n",
    "# CountVectorizer\n",
    "count_vectorizer = CountVectorizer(max_features=max_features)\n",
    "sparce_matrix_train=count_vectorizer.fit_transform(train_data['clean_text'])\n",
    "sparce_matrix_test=count_vectorizer.fit_transform(train_data['clean_text'])\n",
    "\n",
    "def count_vector(data):\n",
    "    count_vectorizer = CountVectorizer()\n",
    "    vect = count_vectorizer.fit_transform(data)\n",
    "    return vect, count_vectorizer\n",
    "\n",
    "def tfidf_vector(data):\n",
    "    tfidf_vectorizer = TfidfVectorizer()\n",
    "    vect = tfidf_vectorizer.fit_transform(data)\n",
    "    return vect, tfidf_vectorizer\n",
    "\n",
    "X_train_count, count_vectorizer = count_vector(train_data['clean_text'])\n",
    "X_train_tfidf, tfidf_vectorizer = tfidf_vector(train_data['clean_text'])\n",
    "\n",
    "X_test_count = count_vectorizer.transform(test_data['clean_text'])                                                     \n",
    "X_test_tfidf = tfidf_vectorizer.transform(test_data['clean_text'])\n",
    "\n",
    "import pickle    \n",
    "\n",
    "with open('count_vectorizer.pickle', 'wb') as handle:\n",
    "    pickle.dump(count_vectorizer, handle, protocol=pickle.HIGHEST_PROTOCOL)\n",
    "with open('tfidf_vectorizer.pickle', 'wb') as handle:\n",
    "    pickle.dump(tfidf_vectorizer, handle, protocol=pickle.HIGHEST_PROTOCOL)\n"
   ]
  },
  {
   "cell_type": "markdown",
   "id": "advance-silly",
   "metadata": {
    "papermill": {
     "duration": 0.047334,
     "end_time": "2021-05-05T04:22:30.604432",
     "exception": false,
     "start_time": "2021-05-05T04:22:30.557098",
     "status": "completed"
    },
    "tags": []
   },
   "source": [
    "**Create different models to compare results**"
   ]
  },
  {
   "cell_type": "markdown",
   "id": "veterinary-footage",
   "metadata": {
    "papermill": {
     "duration": 0.047683,
     "end_time": "2021-05-05T04:22:30.699996",
     "exception": false,
     "start_time": "2021-05-05T04:22:30.652313",
     "status": "completed"
    },
    "tags": []
   },
   "source": [
    "* LogisticRegression\n",
    "* SVC\n",
    "* MultinomialNB\n",
    "* DecisionTreeClassifier\n",
    "* KNeighborsClassifier\n",
    "* RandomForestClassifier"
   ]
  },
  {
   "cell_type": "code",
   "execution_count": 34,
   "id": "stopped-raleigh",
   "metadata": {
    "execution": {
     "iopub.execute_input": "2021-05-05T04:22:30.804229Z",
     "iopub.status.busy": "2021-05-05T04:22:30.803581Z",
     "iopub.status.idle": "2021-05-05T04:22:30.807626Z",
     "shell.execute_reply": "2021-05-05T04:22:30.807194Z"
    },
    "papermill": {
     "duration": 0.059689,
     "end_time": "2021-05-05T04:22:30.807759",
     "exception": false,
     "start_time": "2021-05-05T04:22:30.748070",
     "status": "completed"
    },
    "tags": []
   },
   "outputs": [],
   "source": [
    "# create a data frame with 'model' ,'vectoriser', 'f1 score', 'train accuracy','test accuracy'\n",
    "metrics = pd.DataFrame(columns=['model' ,'vectoriser', 'f1 score', 'train accuracy','test accuracy'])"
   ]
  },
  {
   "cell_type": "code",
   "execution_count": 35,
   "id": "amino-conference",
   "metadata": {
    "execution": {
     "iopub.execute_input": "2021-05-05T04:22:30.915432Z",
     "iopub.status.busy": "2021-05-05T04:22:30.914757Z",
     "iopub.status.idle": "2021-05-05T04:22:30.917468Z",
     "shell.execute_reply": "2021-05-05T04:22:30.917846Z"
    },
    "papermill": {
     "duration": 0.061598,
     "end_time": "2021-05-05T04:22:30.917989",
     "exception": false,
     "start_time": "2021-05-05T04:22:30.856391",
     "status": "completed"
    },
    "tags": []
   },
   "outputs": [],
   "source": [
    "#dumping the pickled count and tfidf vectorizer\n",
    "from joblib import dump\n",
    "\n",
    "def fit_and_predict(model,x_train,x_test,y_train,y_test,vectoriser):\n",
    "    classifier = model\n",
    "    classifier_name = str(classifier.__class__.__name__)\n",
    "\n",
    "    #fit training data\n",
    "    classifier.fit(x_train,y_train)\n",
    "    filename = classifier_name +\" using \"+ str(vectoriser)+\".joblib\"\n",
    "    filename = filename.lower().replace(\" \",\"_\")\n",
    "    dump(model, filename=filename)\n",
    "    y_pred = classifier.predict(x_test)\n",
    "    \n",
    "    #plot confusion matrix\n",
    "    cmatrix = confusion_matrix(y_test,y_pred)\n",
    "    \n",
    "    f,ax = plt.subplots(figsize=(3,3))\n",
    "    sns.heatmap(cmatrix,annot=True,linewidths=0.5,cbar=False,linecolor=\"red\",fmt='.0f',ax=ax)\n",
    "    plt.xlabel(\"y_predict\")\n",
    "    plt.ylabel(\"y_true\")\n",
    "    ax.set(title=str(classifier))\n",
    "    plt.show()\n",
    "\n",
    "\n",
    "    # calculate f1score and accuracy\n",
    "    f1score = f1_score(y_test,y_pred,average='weighted')\n",
    "    train_accuracy = round(classifier.score(x_train,y_train)*100)\n",
    "    test_accuracy =  round(accuracy_score(y_test,y_pred)*100)\n",
    "\n",
    "    global metrics\n",
    "    #append values to existing dataframe\n",
    "    metrics = metrics.append({\n",
    "                              'model': classifier_name,\n",
    "                              'f1 score': f1score, \n",
    "                              'train accuracy': train_accuracy, \n",
    "                              'test accuracy': test_accuracy, \n",
    "                              'vectoriser': str(vectoriser),\n",
    "                             },\n",
    "                               ignore_index=True\n",
    "                            )\n",
    "    #print classifier name with vectorizer\n",
    "    print(str(classifier.__class__.__name__) +\" using \"+ str(vectoriser))\n",
    "    # print classification report\n",
    "    print(classification_report(y_test,y_pred)) \n",
    "    #print predictions\n",
    "    print(\"y_pred \" , y_pred)   \n",
    "    # print training accuracy\n",
    "    print('Accuracy of classifier on training set:{}%'.format(train_accuracy))\n",
    "    # print testing accuracy\n",
    "    print('Accuracy of classifier on test set:{}%' .format(test_accuracy))\n"
   ]
  },
  {
   "cell_type": "markdown",
   "id": "likely-region",
   "metadata": {
    "papermill": {
     "duration": 0.048808,
     "end_time": "2021-05-05T04:22:31.015597",
     "exception": false,
     "start_time": "2021-05-05T04:22:30.966789",
     "status": "completed"
    },
    "tags": []
   },
   "source": [
    "Assign the random state. A random_state parameter may be provided to control the random number generator used. Next, create the list of models."
   ]
  },
  {
   "cell_type": "code",
   "execution_count": 36,
   "id": "earned-dinner",
   "metadata": {
    "execution": {
     "iopub.execute_input": "2021-05-05T04:22:31.121592Z",
     "iopub.status.busy": "2021-05-05T04:22:31.121037Z",
     "iopub.status.idle": "2021-05-05T04:22:31.124643Z",
     "shell.execute_reply": "2021-05-05T04:22:31.125308Z"
    },
    "papermill": {
     "duration": 0.061234,
     "end_time": "2021-05-05T04:22:31.125495",
     "exception": false,
     "start_time": "2021-05-05T04:22:31.064261",
     "status": "completed"
    },
    "tags": []
   },
   "outputs": [],
   "source": [
    "random_state = 123\n",
    "models=[\n",
    "        XGBClassifier(max_depth=6, n_estimators=1000,random_state=random_state),\n",
    "        LogisticRegression(random_state=random_state),\n",
    "        MultinomialNB(),\n",
    "        SVC(random_state=random_state),\n",
    "        DecisionTreeClassifier(random_state = random_state),\n",
    "        KNeighborsClassifier(),\n",
    "        RandomForestClassifier(random_state=random_state),\n",
    "      ]\n",
    "      "
   ]
  },
  {
   "cell_type": "code",
   "execution_count": 37,
   "id": "grand-experience",
   "metadata": {
    "execution": {
     "iopub.execute_input": "2021-05-05T04:22:31.240024Z",
     "iopub.status.busy": "2021-05-05T04:22:31.239218Z",
     "iopub.status.idle": "2021-05-05T04:23:49.413560Z",
     "shell.execute_reply": "2021-05-05T04:23:49.414834Z"
    },
    "papermill": {
     "duration": 78.23138,
     "end_time": "2021-05-05T04:23:49.415068",
     "exception": false,
     "start_time": "2021-05-05T04:22:31.183688",
     "status": "completed"
    },
    "tags": []
   },
   "outputs": [
    {
     "name": "stderr",
     "output_type": "stream",
     "text": [
      "/opt/conda/lib/python3.7/site-packages/xgboost/sklearn.py:1146: UserWarning: The use of label encoder in XGBClassifier is deprecated and will be removed in a future release. To remove this warning, do the following: 1) Pass option use_label_encoder=False when constructing XGBClassifier object; and 2) Encode your labels (y) as integers starting with 0, i.e. 0, 1, 2, ..., [num_class - 1].\n",
      "  warnings.warn(label_encoder_deprecation_msg, UserWarning)\n"
     ]
    },
    {
     "name": "stdout",
     "output_type": "stream",
     "text": [
      "[04:22:34] WARNING: ../src/learner.cc:1095: Starting in XGBoost 1.3.0, the default evaluation metric used with the objective 'binary:logistic' was changed from 'error' to 'logloss'. Explicitly set eval_metric if you'd like to restore the old behavior.\n"
     ]
    },
    {
     "data": {
      "image/png": "[encoded data removed]",
      "text/plain": [
       "<Figure size 216x216 with 1 Axes>"
      ]
     },
     "metadata": {
      "needs_background": "light"
     },
     "output_type": "display_data"
    },
    {
     "name": "stdout",
     "output_type": "stream",
     "text": [
      "XGBClassifier using Count vector\n",
      "              precision    recall  f1-score   support\n",
      "\n",
      "           0       0.80      0.84      0.82      1313\n",
      "           1       0.77      0.71      0.74       971\n",
      "\n",
      "    accuracy                           0.79      2284\n",
      "   macro avg       0.79      0.78      0.78      2284\n",
      "weighted avg       0.79      0.79      0.79      2284\n",
      "\n",
      "y_pred  [1 0 0 ... 1 0 0]\n",
      "Accuracy of classifier on training set:94%\n",
      "Accuracy of classifier on test set:79%\n",
      "[04:22:43] WARNING: ../src/learner.cc:1095: Starting in XGBoost 1.3.0, the default evaluation metric used with the objective 'binary:logistic' was changed from 'error' to 'logloss'. Explicitly set eval_metric if you'd like to restore the old behavior.\n"
     ]
    },
    {
     "name": "stderr",
     "output_type": "stream",
     "text": [
      "/opt/conda/lib/python3.7/site-packages/xgboost/sklearn.py:1146: UserWarning: The use of label encoder in XGBClassifier is deprecated and will be removed in a future release. To remove this warning, do the following: 1) Pass option use_label_encoder=False when constructing XGBClassifier object; and 2) Encode your labels (y) as integers starting with 0, i.e. 0, 1, 2, ..., [num_class - 1].\n",
      "  warnings.warn(label_encoder_deprecation_msg, UserWarning)\n"
     ]
    },
    {
     "data": {
      "image/png": "[encoded data removed]",
      "text/plain": [
       "<Figure size 216x216 with 1 Axes>"
      ]
     },
     "metadata": {
      "needs_background": "light"
     },
     "output_type": "display_data"
    },
    {
     "name": "stdout",
     "output_type": "stream",
     "text": [
      "XGBClassifier using Tfidf vector\n",
      "              precision    recall  f1-score   support\n",
      "\n",
      "           0       0.78      0.84      0.81      1313\n",
      "           1       0.76      0.68      0.72       971\n",
      "\n",
      "    accuracy                           0.77      2284\n",
      "   macro avg       0.77      0.76      0.77      2284\n",
      "weighted avg       0.77      0.77      0.77      2284\n",
      "\n",
      "y_pred  [0 0 0 ... 1 0 0]\n",
      "Accuracy of classifier on training set:98%\n",
      "Accuracy of classifier on test set:77%\n"
     ]
    },
    {
     "name": "stderr",
     "output_type": "stream",
     "text": [
      "/opt/conda/lib/python3.7/site-packages/sklearn/linear_model/_logistic.py:765: ConvergenceWarning: lbfgs failed to converge (status=1):\n",
      "STOP: TOTAL NO. of ITERATIONS REACHED LIMIT.\n",
      "\n",
      "Increase the number of iterations (max_iter) or scale the data as shown in:\n",
      "    https://scikit-learn.org/stable/modules/preprocessing.html\n",
      "Please also refer to the documentation for alternative solver options:\n",
      "    https://scikit-learn.org/stable/modules/linear_model.html#logistic-regression\n",
      "  extra_warning_msg=_LOGISTIC_SOLVER_CONVERGENCE_MSG)\n"
     ]
    },
    {
     "data": {
      "image/png": "[encoded data removed]",
      "text/plain": [
       "<Figure size 216x216 with 1 Axes>"
      ]
     },
     "metadata": {
      "needs_background": "light"
     },
     "output_type": "display_data"
    },
    {
     "name": "stdout",
     "output_type": "stream",
     "text": [
      "LogisticRegression using Count vector\n",
      "              precision    recall  f1-score   support\n",
      "\n",
      "           0       0.80      0.88      0.84      1313\n",
      "           1       0.81      0.70      0.75       971\n",
      "\n",
      "    accuracy                           0.80      2284\n",
      "   macro avg       0.81      0.79      0.80      2284\n",
      "weighted avg       0.80      0.80      0.80      2284\n",
      "\n",
      "y_pred  [1 0 0 ... 1 0 0]\n",
      "Accuracy of classifier on training set:96%\n",
      "Accuracy of classifier on test set:80%\n"
     ]
    },
    {
     "data": {
      "image/png": "[encoded data removed]",
      "text/plain": [
       "<Figure size 216x216 with 1 Axes>"
      ]
     },
     "metadata": {
      "needs_background": "light"
     },
     "output_type": "display_data"
    },
    {
     "name": "stdout",
     "output_type": "stream",
     "text": [
      "LogisticRegression using Tfidf vector\n",
      "              precision    recall  f1-score   support\n",
      "\n",
      "           0       0.78      0.91      0.84      1313\n",
      "           1       0.85      0.64      0.73       971\n",
      "\n",
      "    accuracy                           0.80      2284\n",
      "   macro avg       0.81      0.78      0.79      2284\n",
      "weighted avg       0.81      0.80      0.79      2284\n",
      "\n",
      "y_pred  [1 0 0 ... 1 0 0]\n",
      "Accuracy of classifier on training set:89%\n",
      "Accuracy of classifier on test set:80%\n"
     ]
    },
    {
     "data": {
      "image/png": "[encoded data removed]",
      "text/plain": [
       "<Figure size 216x216 with 1 Axes>"
      ]
     },
     "metadata": {
      "needs_background": "light"
     },
     "output_type": "display_data"
    },
    {
     "name": "stdout",
     "output_type": "stream",
     "text": [
      "MultinomialNB using Count vector\n",
      "              precision    recall  f1-score   support\n",
      "\n",
      "           0       0.81      0.86      0.83      1313\n",
      "           1       0.79      0.73      0.76       971\n",
      "\n",
      "    accuracy                           0.80      2284\n",
      "   macro avg       0.80      0.80      0.80      2284\n",
      "weighted avg       0.80      0.80      0.80      2284\n",
      "\n",
      "y_pred  [1 0 0 ... 1 0 0]\n",
      "Accuracy of classifier on training set:91%\n",
      "Accuracy of classifier on test set:80%\n"
     ]
    },
    {
     "data": {
      "image/png": "[encoded data removed]",
      "text/plain": [
       "<Figure size 216x216 with 1 Axes>"
      ]
     },
     "metadata": {
      "needs_background": "light"
     },
     "output_type": "display_data"
    },
    {
     "name": "stdout",
     "output_type": "stream",
     "text": [
      "MultinomialNB using Tfidf vector\n",
      "              precision    recall  f1-score   support\n",
      "\n",
      "           0       0.79      0.91      0.84      1313\n",
      "           1       0.84      0.66      0.74       971\n",
      "\n",
      "    accuracy                           0.81      2284\n",
      "   macro avg       0.81      0.79      0.79      2284\n",
      "weighted avg       0.81      0.81      0.80      2284\n",
      "\n",
      "y_pred  [1 0 0 ... 1 0 0]\n",
      "Accuracy of classifier on training set:90%\n",
      "Accuracy of classifier on test set:81%\n"
     ]
    },
    {
     "data": {
      "image/png": "[encoded data removed]",
      "text/plain": [
       "<Figure size 216x216 with 1 Axes>"
      ]
     },
     "metadata": {
      "needs_background": "light"
     },
     "output_type": "display_data"
    },
    {
     "name": "stdout",
     "output_type": "stream",
     "text": [
      "SVC using Count vector\n",
      "              precision    recall  f1-score   support\n",
      "\n",
      "           0       0.78      0.92      0.85      1313\n",
      "           1       0.86      0.65      0.74       971\n",
      "\n",
      "    accuracy                           0.81      2284\n",
      "   macro avg       0.82      0.79      0.80      2284\n",
      "weighted avg       0.82      0.81      0.80      2284\n",
      "\n",
      "y_pred  [0 0 0 ... 1 0 0]\n",
      "Accuracy of classifier on training set:94%\n",
      "Accuracy of classifier on test set:81%\n"
     ]
    },
    {
     "data": {
      "image/png": "[encoded data removed]",
      "text/plain": [
       "<Figure size 216x216 with 1 Axes>"
      ]
     },
     "metadata": {
      "needs_background": "light"
     },
     "output_type": "display_data"
    },
    {
     "name": "stdout",
     "output_type": "stream",
     "text": [
      "SVC using Tfidf vector\n",
      "              precision    recall  f1-score   support\n",
      "\n",
      "           0       0.77      0.93      0.84      1313\n",
      "           1       0.87      0.62      0.73       971\n",
      "\n",
      "    accuracy                           0.80      2284\n",
      "   macro avg       0.82      0.78      0.78      2284\n",
      "weighted avg       0.81      0.80      0.79      2284\n",
      "\n",
      "y_pred  [0 0 0 ... 1 0 0]\n",
      "Accuracy of classifier on training set:97%\n",
      "Accuracy of classifier on test set:80%\n"
     ]
    },
    {
     "data": {
      "image/png": "[encoded data removed]",
      "text/plain": [
       "<Figure size 216x216 with 1 Axes>"
      ]
     },
     "metadata": {
      "needs_background": "light"
     },
     "output_type": "display_data"
    },
    {
     "name": "stdout",
     "output_type": "stream",
     "text": [
      "DecisionTreeClassifier using Count vector\n",
      "              precision    recall  f1-score   support\n",
      "\n",
      "           0       0.75      0.83      0.79      1313\n",
      "           1       0.73      0.62      0.67       971\n",
      "\n",
      "    accuracy                           0.74      2284\n",
      "   macro avg       0.74      0.73      0.73      2284\n",
      "weighted avg       0.74      0.74      0.74      2284\n",
      "\n",
      "y_pred  [1 0 0 ... 1 0 0]\n",
      "Accuracy of classifier on training set:99%\n",
      "Accuracy of classifier on test set:74%\n"
     ]
    },
    {
     "data": {
      "image/png": "[encoded data removed]",
      "text/plain": [
       "<Figure size 216x216 with 1 Axes>"
      ]
     },
     "metadata": {
      "needs_background": "light"
     },
     "output_type": "display_data"
    },
    {
     "name": "stdout",
     "output_type": "stream",
     "text": [
      "DecisionTreeClassifier using Tfidf vector\n",
      "              precision    recall  f1-score   support\n",
      "\n",
      "           0       0.73      0.82      0.77      1313\n",
      "           1       0.71      0.59      0.65       971\n",
      "\n",
      "    accuracy                           0.72      2284\n",
      "   macro avg       0.72      0.71      0.71      2284\n",
      "weighted avg       0.72      0.72      0.72      2284\n",
      "\n",
      "y_pred  [0 0 1 ... 0 0 0]\n",
      "Accuracy of classifier on training set:99%\n",
      "Accuracy of classifier on test set:72%\n"
     ]
    },
    {
     "data": {
      "image/png": "[encoded data removed]",
      "text/plain": [
       "<Figure size 216x216 with 1 Axes>"
      ]
     },
     "metadata": {
      "needs_background": "light"
     },
     "output_type": "display_data"
    },
    {
     "name": "stdout",
     "output_type": "stream",
     "text": [
      "KNeighborsClassifier using Count vector\n",
      "              precision    recall  f1-score   support\n",
      "\n",
      "           0       0.66      0.97      0.78      1313\n",
      "           1       0.88      0.32      0.47       971\n",
      "\n",
      "    accuracy                           0.69      2284\n",
      "   macro avg       0.77      0.65      0.63      2284\n",
      "weighted avg       0.75      0.69      0.65      2284\n",
      "\n",
      "y_pred  [0 0 0 ... 0 0 0]\n",
      "Accuracy of classifier on training set:75%\n",
      "Accuracy of classifier on test set:69%\n"
     ]
    },
    {
     "data": {
      "image/png": "[encoded data removed]",
      "text/plain": [
       "<Figure size 216x216 with 1 Axes>"
      ]
     },
     "metadata": {
      "needs_background": "light"
     },
     "output_type": "display_data"
    },
    {
     "name": "stdout",
     "output_type": "stream",
     "text": [
      "KNeighborsClassifier using Tfidf vector\n",
      "              precision    recall  f1-score   support\n",
      "\n",
      "           0       0.77      0.86      0.81      1313\n",
      "           1       0.77      0.64      0.70       971\n",
      "\n",
      "    accuracy                           0.77      2284\n",
      "   macro avg       0.77      0.75      0.76      2284\n",
      "weighted avg       0.77      0.77      0.76      2284\n",
      "\n",
      "y_pred  [1 0 0 ... 1 0 0]\n",
      "Accuracy of classifier on training set:83%\n",
      "Accuracy of classifier on test set:77%\n"
     ]
    },
    {
     "data": {
      "image/png": "[encoded data removed]",
      "text/plain": [
       "<Figure size 216x216 with 1 Axes>"
      ]
     },
     "metadata": {
      "needs_background": "light"
     },
     "output_type": "display_data"
    },
    {
     "name": "stdout",
     "output_type": "stream",
     "text": [
      "RandomForestClassifier using Count vector\n",
      "              precision    recall  f1-score   support\n",
      "\n",
      "           0       0.76      0.93      0.84      1313\n",
      "           1       0.87      0.59      0.71       971\n",
      "\n",
      "    accuracy                           0.79      2284\n",
      "   macro avg       0.81      0.76      0.77      2284\n",
      "weighted avg       0.80      0.79      0.78      2284\n",
      "\n",
      "y_pred  [0 0 0 ... 0 0 0]\n",
      "Accuracy of classifier on training set:99%\n",
      "Accuracy of classifier on test set:79%\n"
     ]
    },
    {
     "data": {
      "image/png": "[encoded data removed]",
      "text/plain": [
       "<Figure size 216x216 with 1 Axes>"
      ]
     },
     "metadata": {
      "needs_background": "light"
     },
     "output_type": "display_data"
    },
    {
     "name": "stdout",
     "output_type": "stream",
     "text": [
      "RandomForestClassifier using Tfidf vector\n",
      "              precision    recall  f1-score   support\n",
      "\n",
      "           0       0.75      0.94      0.83      1313\n",
      "           1       0.87      0.58      0.70       971\n",
      "\n",
      "    accuracy                           0.79      2284\n",
      "   macro avg       0.81      0.76      0.76      2284\n",
      "weighted avg       0.80      0.79      0.78      2284\n",
      "\n",
      "y_pred  [0 0 0 ... 0 0 0]\n",
      "Accuracy of classifier on training set:99%\n",
      "Accuracy of classifier on test set:79%\n"
     ]
    }
   ],
   "source": [
    "# for each model, use both vectorizers (count and tfidf) to fit and predict.\n",
    "for model in models:\n",
    "    y = train_data.target\n",
    "\n",
    "    x = X_train_count\n",
    "    x_train, x_test, y_train, y_test = train_test_split(x,y, test_size = 0.3, random_state =random_state)\n",
    "    fit_and_predict(model,x_train,x_test,y_train,y_test,'Count vector')\n",
    "    \n",
    "    x = X_train_tfidf\n",
    "    x_train, x_test, y_train, y_test = train_test_split(x,y, test_size = 0.3, random_state=random_state)\n",
    "    fit_and_predict(model,x_train,x_test,y_train,y_test, 'Tfidf vector')\n"
   ]
  },
  {
   "cell_type": "markdown",
   "id": "animated-castle",
   "metadata": {
    "papermill": {
     "duration": 0.11026,
     "end_time": "2021-05-05T04:23:49.639173",
     "exception": false,
     "start_time": "2021-05-05T04:23:49.528913",
     "status": "completed"
    },
    "tags": []
   },
   "source": [
    "Sort metrics data frame and print it in decending order. "
   ]
  },
  {
   "cell_type": "code",
   "execution_count": 38,
   "id": "reverse-african",
   "metadata": {
    "execution": {
     "iopub.execute_input": "2021-05-05T04:23:49.788006Z",
     "iopub.status.busy": "2021-05-05T04:23:49.787057Z",
     "iopub.status.idle": "2021-05-05T04:23:49.789479Z",
     "shell.execute_reply": "2021-05-05T04:23:49.789895Z"
    },
    "papermill": {
     "duration": 0.073347,
     "end_time": "2021-05-05T04:23:49.790033",
     "exception": false,
     "start_time": "2021-05-05T04:23:49.716686",
     "status": "completed"
    },
    "tags": []
   },
   "outputs": [],
   "source": [
    "metrics = metrics.sort_values('f1 score',ascending=False)"
   ]
  },
  {
   "cell_type": "code",
   "execution_count": 39,
   "id": "institutional-insert",
   "metadata": {
    "execution": {
     "iopub.execute_input": "2021-05-05T04:23:49.934311Z",
     "iopub.status.busy": "2021-05-05T04:23:49.933297Z",
     "iopub.status.idle": "2021-05-05T04:23:49.936700Z",
     "shell.execute_reply": "2021-05-05T04:23:49.937156Z"
    },
    "papermill": {
     "duration": 0.080548,
     "end_time": "2021-05-05T04:23:49.937312",
     "exception": false,
     "start_time": "2021-05-05T04:23:49.856764",
     "status": "completed"
    },
    "tags": []
   },
   "outputs": [
    {
     "data": {
      "text/html": [
       "<div>\n",
       "<style scoped>\n",
       "    .dataframe tbody tr th:only-of-type {\n",
       "        vertical-align: middle;\n",
       "    }\n",
       "\n",
       "    .dataframe tbody tr th {\n",
       "        vertical-align: top;\n",
       "    }\n",
       "\n",
       "    .dataframe thead th {\n",
       "        text-align: right;\n",
       "    }\n",
       "</style>\n",
       "<table border=\"1\" class=\"dataframe\">\n",
       "  <thead>\n",
       "    <tr style=\"text-align: right;\">\n",
       "      <th></th>\n",
       "      <th>model</th>\n",
       "      <th>vectoriser</th>\n",
       "      <th>f1 score</th>\n",
       "      <th>train accuracy</th>\n",
       "      <th>test accuracy</th>\n",
       "    </tr>\n",
       "  </thead>\n",
       "  <tbody>\n",
       "    <tr>\n",
       "      <th>4</th>\n",
       "      <td>MultinomialNB</td>\n",
       "      <td>Count vector</td>\n",
       "      <td>0.803191</td>\n",
       "      <td>91</td>\n",
       "      <td>80</td>\n",
       "    </tr>\n",
       "    <tr>\n",
       "      <th>6</th>\n",
       "      <td>SVC</td>\n",
       "      <td>Count vector</td>\n",
       "      <td>0.803006</td>\n",
       "      <td>94</td>\n",
       "      <td>81</td>\n",
       "    </tr>\n",
       "    <tr>\n",
       "      <th>2</th>\n",
       "      <td>LogisticRegression</td>\n",
       "      <td>Count vector</td>\n",
       "      <td>0.801443</td>\n",
       "      <td>96</td>\n",
       "      <td>80</td>\n",
       "    </tr>\n",
       "    <tr>\n",
       "      <th>5</th>\n",
       "      <td>MultinomialNB</td>\n",
       "      <td>Tfidf vector</td>\n",
       "      <td>0.800662</td>\n",
       "      <td>90</td>\n",
       "      <td>81</td>\n",
       "    </tr>\n",
       "    <tr>\n",
       "      <th>3</th>\n",
       "      <td>LogisticRegression</td>\n",
       "      <td>Tfidf vector</td>\n",
       "      <td>0.794426</td>\n",
       "      <td>89</td>\n",
       "      <td>80</td>\n",
       "    </tr>\n",
       "    <tr>\n",
       "      <th>7</th>\n",
       "      <td>SVC</td>\n",
       "      <td>Tfidf vector</td>\n",
       "      <td>0.793565</td>\n",
       "      <td>97</td>\n",
       "      <td>80</td>\n",
       "    </tr>\n",
       "    <tr>\n",
       "      <th>0</th>\n",
       "      <td>XGBClassifier</td>\n",
       "      <td>Count vector</td>\n",
       "      <td>0.787679</td>\n",
       "      <td>94</td>\n",
       "      <td>79</td>\n",
       "    </tr>\n",
       "    <tr>\n",
       "      <th>12</th>\n",
       "      <td>RandomForestClassifier</td>\n",
       "      <td>Count vector</td>\n",
       "      <td>0.780243</td>\n",
       "      <td>99</td>\n",
       "      <td>79</td>\n",
       "    </tr>\n",
       "    <tr>\n",
       "      <th>13</th>\n",
       "      <td>RandomForestClassifier</td>\n",
       "      <td>Tfidf vector</td>\n",
       "      <td>0.775260</td>\n",
       "      <td>99</td>\n",
       "      <td>79</td>\n",
       "    </tr>\n",
       "    <tr>\n",
       "      <th>1</th>\n",
       "      <td>XGBClassifier</td>\n",
       "      <td>Tfidf vector</td>\n",
       "      <td>0.772607</td>\n",
       "      <td>98</td>\n",
       "      <td>77</td>\n",
       "    </tr>\n",
       "    <tr>\n",
       "      <th>11</th>\n",
       "      <td>KNeighborsClassifier</td>\n",
       "      <td>Tfidf vector</td>\n",
       "      <td>0.764482</td>\n",
       "      <td>83</td>\n",
       "      <td>77</td>\n",
       "    </tr>\n",
       "    <tr>\n",
       "      <th>8</th>\n",
       "      <td>DecisionTreeClassifier</td>\n",
       "      <td>Count vector</td>\n",
       "      <td>0.737773</td>\n",
       "      <td>99</td>\n",
       "      <td>74</td>\n",
       "    </tr>\n",
       "    <tr>\n",
       "      <th>9</th>\n",
       "      <td>DecisionTreeClassifier</td>\n",
       "      <td>Tfidf vector</td>\n",
       "      <td>0.718151</td>\n",
       "      <td>99</td>\n",
       "      <td>72</td>\n",
       "    </tr>\n",
       "    <tr>\n",
       "      <th>10</th>\n",
       "      <td>KNeighborsClassifier</td>\n",
       "      <td>Count vector</td>\n",
       "      <td>0.651448</td>\n",
       "      <td>75</td>\n",
       "      <td>69</td>\n",
       "    </tr>\n",
       "  </tbody>\n",
       "</table>\n",
       "</div>"
      ],
      "text/plain": [
       "                     model    vectoriser  f1 score train accuracy  \\\n",
       "4            MultinomialNB  Count vector  0.803191             91   \n",
       "6                      SVC  Count vector  0.803006             94   \n",
       "2       LogisticRegression  Count vector  0.801443             96   \n",
       "5            MultinomialNB  Tfidf vector  0.800662             90   \n",
       "3       LogisticRegression  Tfidf vector  0.794426             89   \n",
       "7                      SVC  Tfidf vector  0.793565             97   \n",
       "0            XGBClassifier  Count vector  0.787679             94   \n",
       "12  RandomForestClassifier  Count vector  0.780243             99   \n",
       "13  RandomForestClassifier  Tfidf vector  0.775260             99   \n",
       "1            XGBClassifier  Tfidf vector  0.772607             98   \n",
       "11    KNeighborsClassifier  Tfidf vector  0.764482             83   \n",
       "8   DecisionTreeClassifier  Count vector  0.737773             99   \n",
       "9   DecisionTreeClassifier  Tfidf vector  0.718151             99   \n",
       "10    KNeighborsClassifier  Count vector  0.651448             75   \n",
       "\n",
       "   test accuracy  \n",
       "4             80  \n",
       "6             81  \n",
       "2             80  \n",
       "5             81  \n",
       "3             80  \n",
       "7             80  \n",
       "0             79  \n",
       "12            79  \n",
       "13            79  \n",
       "1             77  \n",
       "11            77  \n",
       "8             74  \n",
       "9             72  \n",
       "10            69  "
      ]
     },
     "execution_count": 39,
     "metadata": {},
     "output_type": "execute_result"
    }
   ],
   "source": [
    "metrics"
   ]
  },
  {
   "cell_type": "markdown",
   "id": "pending-merchant",
   "metadata": {
    "papermill": {
     "duration": 0.065567,
     "end_time": "2021-05-05T04:23:50.070170",
     "exception": false,
     "start_time": "2021-05-05T04:23:50.004603",
     "status": "completed"
    },
    "tags": []
   },
   "source": [
    "**Analysing the best model based on F1 score**"
   ]
  },
  {
   "cell_type": "markdown",
   "id": "approved-sheriff",
   "metadata": {
    "papermill": {
     "duration": 0.064449,
     "end_time": "2021-05-05T04:23:50.198594",
     "exception": false,
     "start_time": "2021-05-05T04:23:50.134145",
     "status": "completed"
    },
    "tags": []
   },
   "source": [
    "Multinomial Naive Bayes with count vector results in the best f1score. We used Multinomial Naive Bayes with count vector to create the submittion file."
   ]
  },
  {
   "cell_type": "code",
   "execution_count": 40,
   "id": "directed-conclusion",
   "metadata": {
    "execution": {
     "iopub.execute_input": "2021-05-05T04:23:50.332948Z",
     "iopub.status.busy": "2021-05-05T04:23:50.332132Z",
     "iopub.status.idle": "2021-05-05T04:23:50.481416Z",
     "shell.execute_reply": "2021-05-05T04:23:50.482170Z"
    },
    "papermill": {
     "duration": 0.219963,
     "end_time": "2021-05-05T04:23:50.482440",
     "exception": false,
     "start_time": "2021-05-05T04:23:50.262477",
     "status": "completed"
    },
    "tags": []
   },
   "outputs": [
    {
     "data": {
      "image/png": "[encoded data removed]",
      "text/plain": [
       "<Figure size 216x216 with 1 Axes>"
      ]
     },
     "metadata": {
      "needs_background": "light"
     },
     "output_type": "display_data"
    },
    {
     "name": "stdout",
     "output_type": "stream",
     "text": [
      "MultinomialNB using count vector\n",
      "              precision    recall  f1-score   support\n",
      "\n",
      "           0       0.79      0.91      0.84      1313\n",
      "           1       0.84      0.66      0.74       971\n",
      "\n",
      "    accuracy                           0.81      2284\n",
      "   macro avg       0.81      0.79      0.79      2284\n",
      "weighted avg       0.81      0.81      0.80      2284\n",
      "\n",
      "y_pred  [1 0 0 ... 1 0 0]\n",
      "Accuracy of classifier on training set:90%\n",
      "Accuracy of classifier on test set:81%\n"
     ]
    }
   ],
   "source": [
    "y = train_data.target\n",
    "x = X_train_tfidf\n",
    "x_train, x_test, y_train, y_test = train_test_split(x,y, test_size = 0.3, random_state=random_state)\n",
    "model = MultinomialNB()\n",
    "fit_and_predict(model,x_train,x_test,y_train,y_test, 'count vector')\n",
    "y_pred = model.predict(X_test_count)"
   ]
  },
  {
   "cell_type": "code",
   "execution_count": 41,
   "id": "simple-index",
   "metadata": {
    "execution": {
     "iopub.execute_input": "2021-05-05T04:23:50.628517Z",
     "iopub.status.busy": "2021-05-05T04:23:50.627756Z",
     "iopub.status.idle": "2021-05-05T04:23:50.630598Z",
     "shell.execute_reply": "2021-05-05T04:23:50.631023Z"
    },
    "papermill": {
     "duration": 0.073658,
     "end_time": "2021-05-05T04:23:50.631163",
     "exception": false,
     "start_time": "2021-05-05T04:23:50.557505",
     "status": "completed"
    },
    "tags": []
   },
   "outputs": [
    {
     "data": {
      "text/plain": [
       "array([1, 1, 1, ..., 1, 1, 1])"
      ]
     },
     "execution_count": 41,
     "metadata": {},
     "output_type": "execute_result"
    }
   ],
   "source": [
    "y_pred = y_pred.round().astype(int)\n",
    "y_pred"
   ]
  },
  {
   "cell_type": "markdown",
   "id": "approximate-system",
   "metadata": {
    "papermill": {
     "duration": 0.065618,
     "end_time": "2021-05-05T04:23:50.762078",
     "exception": false,
     "start_time": "2021-05-05T04:23:50.696460",
     "status": "completed"
    },
    "tags": []
   },
   "source": [
    "Create submission file"
   ]
  },
  {
   "cell_type": "code",
   "execution_count": 42,
   "id": "forty-enhancement",
   "metadata": {
    "execution": {
     "iopub.execute_input": "2021-05-05T04:23:50.901901Z",
     "iopub.status.busy": "2021-05-05T04:23:50.901331Z",
     "iopub.status.idle": "2021-05-05T04:23:50.922747Z",
     "shell.execute_reply": "2021-05-05T04:23:50.922012Z"
    },
    "papermill": {
     "duration": 0.095484,
     "end_time": "2021-05-05T04:23:50.922876",
     "exception": false,
     "start_time": "2021-05-05T04:23:50.827392",
     "status": "completed"
    },
    "tags": []
   },
   "outputs": [],
   "source": [
    "sub = pd.read_csv(\"/kaggle/input/nlp-getting-started/sample_submission.csv\")\n",
    "\n",
    "sub['target'] = y_pred\n",
    "sub.to_csv('submission_1.csv', index=False)"
   ]
  }
 ],
 "metadata": {
  "kernelspec": {
   "display_name": "Python 3",
   "language": "python",
   "name": "python3"
  },
  "language_info": {
   "codemirror_mode": {
    "name": "ipython",
    "version": 3
   },
   "file_extension": ".py",
   "mimetype": "text/x-python",
   "name": "python",
   "nbconvert_exporter": "python",
   "pygments_lexer": "ipython3",
   "version": "3.7.10"
  },
  "papermill": {
   "default_parameters": {},
   "duration": 111.851724,
   "end_time": "2021-05-05T04:23:53.021020",
   "environment_variables": {},
   "exception": null,
   "input_path": "__notebook__.ipynb",
   "output_path": "__notebook__.ipynb",
   "parameters": {},
   "start_time": "2021-05-05T04:22:01.169296",
   "version": "2.3.3"
  }
 },
 "nbformat": 4,
 "nbformat_minor": 5
}
